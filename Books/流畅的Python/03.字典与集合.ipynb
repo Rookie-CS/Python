{
 "cells": [
  {
   "cell_type": "markdown",
   "metadata": {},
   "source": [
    "# 第三章 字典与集合"
   ]
  },
  {
   "cell_type": "markdown",
   "metadata": {},
   "source": [
    "dict类型不但在各种程序里广泛使用, 它也是Python语言的基石。 模块的命名空间、实例的属性和函数的关键字参数中都可以看到字典的身影。跟它有关的内置函数都在__builtins__.__dict__ 模块中。"
   ]
  },
  {
   "cell_type": "markdown",
   "metadata": {},
   "source": [
    "正因为字典至关重要, Python对它的实现做了高度优化, 而散列表则是字典性能出众的根本原因。"
   ]
  },
  {
   "cell_type": "markdown",
   "metadata": {},
   "source": [
    "同样, 集合(set)的实现其实也依赖于散列表, 因此本章也会讲到它"
   ]
  },
  {
   "cell_type": "markdown",
   "metadata": {},
   "source": [
    "## 3.1 泛映射类型"
   ]
  },
  {
   "cell_type": "code",
   "execution_count": 23,
   "metadata": {},
   "outputs": [
    {
     "data": {
      "text/plain": [
       "(True, True, True)"
      ]
     },
     "execution_count": 23,
     "metadata": {},
     "output_type": "execute_result"
    }
   ],
   "source": [
    "from collections import abc\n",
    "my_dict = {}\n",
    "isinstance(my_dict, dict),  isinstance(my_dict, abc.Mapping), isinstance(my_dict, abc.MutableMapping)"
   ]
  },
  {
   "cell_type": "code",
   "execution_count": 24,
   "metadata": {},
   "outputs": [
    {
     "name": "stdout",
     "output_type": "stream",
     "text": [
      "A Mapping is a generic container for associating key/value\n",
      "    pairs.\n",
      "\n",
      "    This class provides concrete generic implementations of all\n",
      "    methods except for __getitem__, __iter__, and __len__.\n",
      "    \n"
     ]
    }
   ],
   "source": [
    "print(abc.Mapping.__doc__)"
   ]
  },
  {
   "cell_type": "code",
   "execution_count": 25,
   "metadata": {},
   "outputs": [],
   "source": [
    "import collections\n",
    "import collections.abc\n",
    "import types\n",
    "def _isinstance(obj):\n",
    "    print(f\"{type(obj).__name__}\", end=\" -> \")\n",
    "    for tp in (collections.abc.Container, \n",
    "            collections.abc.Sized, \n",
    "            collections.abc.Iterable, \n",
    "            collections.abc.Mapping, \n",
    "            collections.abc.MutableMapping):\n",
    "        print(isinstance(obj, tp), end=\" \")\n",
    "    print()"
   ]
  },
  {
   "cell_type": "code",
   "execution_count": 26,
   "metadata": {},
   "outputs": [
    {
     "name": "stdout",
     "output_type": "stream",
     "text": [
      "dict -> True True True True True \n",
      "ChainMap -> True True True True True \n",
      "defaultdict -> True True True True True \n",
      "OrderedDict -> True True True True True \n",
      "Counter -> True True True True True \n",
      "mappingproxy -> True True True True False \n"
     ]
    }
   ],
   "source": [
    "_isinstance({})\n",
    "_isinstance(collections.ChainMap())\n",
    "_isinstance(collections.defaultdict())\n",
    "_isinstance(collections.OrderedDict())\n",
    "_isinstance(collections.Counter())\n",
    "_isinstance(types.MappingProxyType({}))     # 不可变映射"
   ]
  },
  {
   "cell_type": "markdown",
   "metadata": {},
   "source": [
    "### 什么是可散列的数据类型?"
   ]
  },
  {
   "cell_type": "code",
   "execution_count": 27,
   "metadata": {},
   "outputs": [
    {
     "data": {
      "text/plain": [
       "(-3907003130834322577, -3907003130834322577, -7033943840296421773)"
      ]
     },
     "execution_count": 27,
     "metadata": {},
     "output_type": "execute_result"
    }
   ],
   "source": [
    "tt1 = (1, 2, (30, 40))\n",
    "tt2 = (1, 2, (30, 40))\n",
    "tt3 = ((30, 40), 1, 2)\n",
    "hash(tt1), hash(tt2), hash(tt3)"
   ]
  },
  {
   "cell_type": "markdown",
   "metadata": {},
   "source": [
    "> 注: 两个相同数据内容的哈希映射唯一"
   ]
  },
  {
   "cell_type": "code",
   "execution_count": 28,
   "metadata": {},
   "outputs": [
    {
     "ename": "TypeError",
     "evalue": "unhashable type: 'list'",
     "output_type": "error",
     "traceback": [
      "\u001b[1;31m---------------------------------------------------------------------------\u001b[0m",
      "\u001b[1;31mTypeError\u001b[0m                                 Traceback (most recent call last)",
      "Cell \u001b[1;32mIn[28], line 2\u001b[0m\n\u001b[0;32m      1\u001b[0m t1 \u001b[38;5;241m=\u001b[39m (\u001b[38;5;241m1\u001b[39m, \u001b[38;5;241m2\u001b[39m, [\u001b[38;5;241m30\u001b[39m, \u001b[38;5;241m40\u001b[39m])\n\u001b[1;32m----> 2\u001b[0m \u001b[38;5;28;43mhash\u001b[39;49m\u001b[43m(\u001b[49m\u001b[43mt1\u001b[49m\u001b[43m)\u001b[49m\n",
      "\u001b[1;31mTypeError\u001b[0m: unhashable type: 'list'"
     ]
    }
   ],
   "source": [
    "t1 = (1, 2, [30, 40])\n",
    "hash(t1)"
   ]
  },
  {
   "cell_type": "markdown",
   "metadata": {},
   "source": [
    "> 注: 对于元组, 只有其包含的全部元素都是可散列类型时, 它才是可散列的"
   ]
  },
  {
   "cell_type": "code",
   "execution_count": 29,
   "metadata": {},
   "outputs": [
    {
     "data": {
      "text/plain": [
       "(135740654777, 2171850476432)"
      ]
     },
     "execution_count": 29,
     "metadata": {},
     "output_type": "execute_result"
    }
   ],
   "source": [
    "class Preson:\n",
    "    pass\n",
    "preson = Preson()\n",
    "hash(preson),  hash(id(preson))"
   ]
  },
  {
   "cell_type": "markdown",
   "metadata": {},
   "source": [
    "> 一般来说, 用户自定义的类型都是可以散列的"
   ]
  },
  {
   "cell_type": "markdown",
   "metadata": {},
   "source": [
    "## 3.2 字典推导"
   ]
  },
  {
   "cell_type": "code",
   "execution_count": 30,
   "metadata": {},
   "outputs": [],
   "source": [
    "DIAL_CODES = [\n",
    "        (86, 'China'),\n",
    "        (91, 'India'),\n",
    "        (1, 'United States'),\n",
    "        (62, 'Indonesia'),\n",
    "        (55, 'Brazil'),\n",
    "        (92, 'Pakistan'),\n",
    "        (880, 'Bangladesh'),\n",
    "        (234, 'Nigeria'),\n",
    "        (7, 'Russia'),\n",
    "        (81, 'Japan'),\n",
    "]"
   ]
  },
  {
   "cell_type": "code",
   "execution_count": 31,
   "metadata": {},
   "outputs": [
    {
     "data": {
      "text/plain": [
       "{'China': 86,\n",
       " 'India': 91,\n",
       " 'United States': 1,\n",
       " 'Indonesia': 62,\n",
       " 'Brazil': 55,\n",
       " 'Pakistan': 92,\n",
       " 'Bangladesh': 880,\n",
       " 'Nigeria': 234,\n",
       " 'Russia': 7,\n",
       " 'Japan': 81}"
      ]
     },
     "execution_count": 31,
     "metadata": {},
     "output_type": "execute_result"
    }
   ],
   "source": [
    "country_code = {country: code for code, country in DIAL_CODES}\n",
    "country_code"
   ]
  },
  {
   "cell_type": "code",
   "execution_count": 32,
   "metadata": {},
   "outputs": [
    {
     "data": {
      "text/plain": [
       "{1: 'UNITED STATES', 62: 'INDONESIA', 55: 'BRAZIL', 7: 'RUSSIA'}"
      ]
     },
     "execution_count": 32,
     "metadata": {},
     "output_type": "execute_result"
    }
   ],
   "source": [
    "country_code = {code:country.upper() for code, country in DIAL_CODES if code <= 66}\n",
    "country_code"
   ]
  },
  {
   "cell_type": "markdown",
   "metadata": {},
   "source": [
    "## 3.3 常见的映射方法"
   ]
  },
  {
   "cell_type": "markdown",
   "metadata": {},
   "source": [
    "#### collections.defaultdict"
   ]
  },
  {
   "cell_type": "code",
   "execution_count": 33,
   "metadata": {},
   "outputs": [
    {
     "name": "stdout",
     "output_type": "stream",
     "text": [
      "defaultdict(<function <lambda> at 0x000001F9AC959A80>, {'h': 0, 'e': 0, 'l': 2, 'o': 1, ' ': 0, 'w': 0, 'r': 0, 'd': 0})\n"
     ]
    }
   ],
   "source": [
    "from collections import defaultdict\n",
    "\n",
    "# 统计字符出现的次数\n",
    "text = \"hello world\"\n",
    "# char_count = defaultdict(int)\n",
    "char_count = defaultdict(lambda: -1)    # 设置默认值\n",
    "for char in text:\n",
    "    char_count[char] += 1\n",
    "print(char_count)"
   ]
  },
  {
   "cell_type": "code",
   "execution_count": 34,
   "metadata": {},
   "outputs": [
    {
     "data": {
      "text/plain": [
       "-1"
      ]
     },
     "execution_count": 34,
     "metadata": {},
     "output_type": "execute_result"
    }
   ],
   "source": [
    "char_count['s']"
   ]
  },
  {
   "cell_type": "markdown",
   "metadata": {},
   "source": [
    "* defaultdict 的优点\n",
    "    * 避免 KeyError 异常： 在访问不存在的键时，会自动提供默认值。\n",
    "    * 简化代码： 可以避免大量的 if-else 判断。\n",
    "    * 灵活的默认值： 可以自定义默认值工厂，满足各种需求。\n",
    "* defaultdict 的常见用法\n",
    "    * 计数： 统计元素出现的次数。\n",
    "    * 分组： 将数据按照某个属性分组。\n",
    "    * 构建多层字典： 创建嵌套的字典结构。"
   ]
  },
  {
   "cell_type": "markdown",
   "metadata": {},
   "source": [
    "### collections.OrderedDict"
   ]
  },
  {
   "cell_type": "code",
   "execution_count": 35,
   "metadata": {},
   "outputs": [
    {
     "name": "stdout",
     "output_type": "stream",
     "text": [
      "1\n",
      "a 1\n",
      "b 2\n",
      "c 3\n"
     ]
    }
   ],
   "source": [
    "from collections import OrderedDict\n",
    "\n",
    "# 创建一个 OrderedDict\n",
    "ordered_dict = OrderedDict()\n",
    "\n",
    "# 添加键值对\n",
    "ordered_dict['a'] = 1\n",
    "ordered_dict['b'] = 2\n",
    "ordered_dict['c'] = 3\n",
    "\n",
    "# 访问值\n",
    "print(ordered_dict['a'])  # 输出：1\n",
    "\n",
    "# 迭代\n",
    "for key, value in ordered_dict.items():\n",
    "    print(key, value)"
   ]
  },
  {
   "cell_type": "markdown",
   "metadata": {},
   "source": [
    "* OrderedDict 是一个非常有用的数据结构，它在需要保持键序的场景下非常有用。\n",
    "* 通过合理地使用 OrderedDict，可以实现很多有趣的功能，比如 LRU 缓存、自定义数据结构等。"
   ]
  },
  {
   "cell_type": "markdown",
   "metadata": {},
   "source": [
    "### 用setdefault处理找不到的键"
   ]
  },
  {
   "cell_type": "code",
   "execution_count": 36,
   "metadata": {},
   "outputs": [
    {
     "data": {
      "text/plain": [
       "{1: 'UNITED STATES', 62: 'INDONESIA', 55: 'BRAZIL', 7: 'RUSSIA', 22: 'E'}"
      ]
     },
     "execution_count": 36,
     "metadata": {},
     "output_type": "execute_result"
    }
   ],
   "source": [
    "country_code.setdefault(22, \"E\")\n",
    "country_code"
   ]
  },
  {
   "cell_type": "code",
   "execution_count": 37,
   "metadata": {},
   "outputs": [
    {
     "data": {
      "text/plain": [
       "{1: 'UNITED STATES',\n",
       " 62: 'INDONESIA',\n",
       " 55: 'BRAZIL',\n",
       " 7: 'RUSSIA',\n",
       " 22: 'E',\n",
       " 23: {'H': 3}}"
      ]
     },
     "execution_count": 37,
     "metadata": {},
     "output_type": "execute_result"
    }
   ],
   "source": [
    "country_code.setdefault(23, {})['H'] = 3\n",
    "country_code"
   ]
  },
  {
   "cell_type": "markdown",
   "metadata": {},
   "source": [
    "* 使用该方法进行查找更新, 通常比通过if判断查询少很多次查询次数, 通常只需要查询一次即可"
   ]
  },
  {
   "cell_type": "code",
   "execution_count": 38,
   "metadata": {},
   "outputs": [
    {
     "data": {
      "text/plain": [
       "{1: 'UNITED STATES',\n",
       " 62: 'INDONESIA',\n",
       " 55: 'BRAZIL',\n",
       " 7: 'RUSSIA',\n",
       " 22: 'E',\n",
       " 23: {'H': 3, 'e': 3}}"
      ]
     },
     "execution_count": 38,
     "metadata": {},
     "output_type": "execute_result"
    }
   ],
   "source": [
    "# 使用 if 方式进行键查询并更新\n",
    "if 23 not in country_code:\n",
    "    country_code[23] = {}\n",
    "country_code[23]['e']  = 3\n",
    "country_code"
   ]
  },
  {
   "cell_type": "markdown",
   "metadata": {},
   "source": [
    "## 3.4 映射的弹性键查询"
   ]
  },
  {
   "cell_type": "markdown",
   "metadata": {},
   "source": [
    "### defaultdict: 处理找不到的键的一个选择"
   ]
  },
  {
   "cell_type": "markdown",
   "metadata": {},
   "source": [
    "### 特殊方法 __missing__"
   ]
  },
  {
   "cell_type": "markdown",
   "metadata": {},
   "source": [
    "所有的映射类型在处理找不到的键的时候, 都会牵扯到 __missing__ 方法"
   ]
  },
  {
   "cell_type": "code",
   "execution_count": 39,
   "metadata": {},
   "outputs": [],
   "source": [
    "class StrKeyDict0(dict): \n",
    "    def __missing__(self, key):\n",
    "        if isinstance(key, str):  \n",
    "            raise KeyError(key)\n",
    "        return self[str(key)]  \n",
    "    def get(self, key, default=None):\n",
    "        try:\n",
    "            return self[key]\n",
    "        except KeyError:\n",
    "            return default\n",
    "        \n",
    "    def __contains__(self, key):\n",
    "        # return key in self or str(key) in self  # 使用更Python的写法, 会导致递归调用 __contains__ \n",
    "        return key in self.keys() or str(key) in self.keys()  "
   ]
  },
  {
   "cell_type": "code",
   "execution_count": 40,
   "metadata": {},
   "outputs": [
    {
     "data": {
      "text/plain": [
       "('two', 'four')"
      ]
     },
     "execution_count": 40,
     "metadata": {},
     "output_type": "execute_result"
    }
   ],
   "source": [
    "d = StrKeyDict0([('2', 'two' ), ('4', 'four')])\n",
    "d['2'], d['4']"
   ]
  },
  {
   "cell_type": "code",
   "execution_count": 41,
   "metadata": {},
   "outputs": [
    {
     "data": {
      "text/plain": [
       "'two'"
      ]
     },
     "execution_count": 41,
     "metadata": {},
     "output_type": "execute_result"
    }
   ],
   "source": [
    "# missing 方法将数字2 转为了字符串\n",
    "d[2]"
   ]
  },
  {
   "cell_type": "code",
   "execution_count": 42,
   "metadata": {},
   "outputs": [
    {
     "ename": "KeyError",
     "evalue": "'1'",
     "output_type": "error",
     "traceback": [
      "\u001b[1;31m---------------------------------------------------------------------------\u001b[0m",
      "\u001b[1;31mKeyError\u001b[0m                                  Traceback (most recent call last)",
      "Cell \u001b[1;32mIn[42], line 1\u001b[0m\n\u001b[1;32m----> 1\u001b[0m \u001b[43md\u001b[49m\u001b[43m[\u001b[49m\u001b[38;5;241;43m1\u001b[39;49m\u001b[43m]\u001b[49m    \u001b[38;5;66;03m# 对于不存在情况抛出异常\u001b[39;00m\n",
      "Cell \u001b[1;32mIn[39], line 5\u001b[0m, in \u001b[0;36mStrKeyDict0.__missing__\u001b[1;34m(self, key)\u001b[0m\n\u001b[0;32m      3\u001b[0m \u001b[38;5;28;01mif\u001b[39;00m \u001b[38;5;28misinstance\u001b[39m(key, \u001b[38;5;28mstr\u001b[39m):  \n\u001b[0;32m      4\u001b[0m     \u001b[38;5;28;01mraise\u001b[39;00m \u001b[38;5;167;01mKeyError\u001b[39;00m(key)\n\u001b[1;32m----> 5\u001b[0m \u001b[38;5;28;01mreturn\u001b[39;00m \u001b[38;5;28;43mself\u001b[39;49m\u001b[43m[\u001b[49m\u001b[38;5;28;43mstr\u001b[39;49m\u001b[43m(\u001b[49m\u001b[43mkey\u001b[49m\u001b[43m)\u001b[49m\u001b[43m]\u001b[49m\n",
      "Cell \u001b[1;32mIn[39], line 4\u001b[0m, in \u001b[0;36mStrKeyDict0.__missing__\u001b[1;34m(self, key)\u001b[0m\n\u001b[0;32m      2\u001b[0m \u001b[38;5;28;01mdef\u001b[39;00m \u001b[38;5;21m__missing__\u001b[39m(\u001b[38;5;28mself\u001b[39m, key):\n\u001b[0;32m      3\u001b[0m     \u001b[38;5;28;01mif\u001b[39;00m \u001b[38;5;28misinstance\u001b[39m(key, \u001b[38;5;28mstr\u001b[39m):  \n\u001b[1;32m----> 4\u001b[0m         \u001b[38;5;28;01mraise\u001b[39;00m \u001b[38;5;167;01mKeyError\u001b[39;00m(key)\n\u001b[0;32m      5\u001b[0m     \u001b[38;5;28;01mreturn\u001b[39;00m \u001b[38;5;28mself\u001b[39m[\u001b[38;5;28mstr\u001b[39m(key)]\n",
      "\u001b[1;31mKeyError\u001b[0m: '1'"
     ]
    }
   ],
   "source": [
    "d[1]    # 对于不存在情况抛出异常"
   ]
  },
  {
   "cell_type": "code",
   "execution_count": 43,
   "metadata": {},
   "outputs": [
    {
     "data": {
      "text/plain": [
       "True"
      ]
     },
     "execution_count": 43,
     "metadata": {},
     "output_type": "execute_result"
    }
   ],
   "source": [
    "2 in d"
   ]
  },
  {
   "cell_type": "markdown",
   "metadata": {},
   "source": [
    "## 3.5 字典的变种"
   ]
  },
  {
   "cell_type": "markdown",
   "metadata": {},
   "source": [
    "* collections.OrderedDict\n",
    "* collections.ChainMap\n",
    "* collections.Counter\n",
    "* collections.UserDict"
   ]
  },
  {
   "cell_type": "markdown",
   "metadata": {},
   "source": [
    "### collections.ChainMap"
   ]
  },
  {
   "cell_type": "code",
   "execution_count": 44,
   "metadata": {},
   "outputs": [
    {
     "data": {
      "text/plain": [
       "ChainMap({'__name__': '__main__', '__doc__': 'Automatically created module for IPython interactive environment', '__package__': None, '__loader__': None, '__spec__': None, '__builtin__': <module 'builtins' (built-in)>, '__builtins__': <module 'builtins' (built-in)>, '_ih': ['', 'import collections\\nimport collections.abc\\ndef _isinstance(obj):\\n    for tp in (collections.abc.Container, \\n            collections.abc.Sized, \\n            collections.abc.Iterable, \\n            collections.abc.Mapping, \\n            collections.abc.MutableMapping):\\n        print(isinstance(obj, tp), end=\" \")\\n    print()', 'import collections\\nimport collections.abc\\ndef _isinstance(obj):\\n    print(f\"{obj!r}: {type(obj)}\", end=\" \")\\n    for tp in (collections.abc.Container, \\n            collections.abc.Sized, \\n            collections.abc.Iterable, \\n            collections.abc.Mapping, \\n            collections.abc.MutableMapping):\\n        print(isinstance(obj, tp), end=\" \")\\n    print()', '_isinstance({}) # 字典\\n_isinstance(set())  # 集合', '_isinstance({}) # 字典\\n_isinstance(collections.ChainMap())', 'import collections\\nimport collections.abc\\ndef _isinstance(obj):\\n    print(f\"{obj!r}: {obj.__name__}\", end=\" \")\\n    for tp in (collections.abc.Container, \\n            collections.abc.Sized, \\n            collections.abc.Iterable, \\n            collections.abc.Mapping, \\n            collections.abc.MutableMapping):\\n        print(isinstance(obj, tp), end=\" \")\\n    print()', '_isinstance({}) # 字典\\n_isinstance(collections.ChainMap())', 'import collections\\nimport collections.abc\\ndef _isinstance(obj):\\n    print(f\"{obj!r}: {obj.__name__()}\", end=\" \")\\n    for tp in (collections.abc.Container, \\n            collections.abc.Sized, \\n            collections.abc.Iterable, \\n            collections.abc.Mapping, \\n            collections.abc.MutableMapping):\\n        print(isinstance(obj, tp), end=\" \")\\n    print()', '_isinstance({}) # 字典\\n_isinstance(collections.ChainMap())', 'import collections\\nimport collections.abc\\ndef _isinstance(obj):\\n    print(f\"{obj!r}: {type(obj).__name__}\", end=\" \")\\n    for tp in (collections.abc.Container, \\n            collections.abc.Sized, \\n            collections.abc.Iterable, \\n            collections.abc.Mapping, \\n            collections.abc.MutableMapping):\\n        print(isinstance(obj, tp), end=\" \")\\n    print()', '_isinstance({}) # 字典\\n_isinstance(collections.ChainMap())', 'import collections\\nimport collections.abc\\ndef _isinstance(obj):\\n    print(f\"{obj!r}: {type(obj).__name__}\", end=\" ->\")\\n    for tp in (collections.abc.Container, \\n            collections.abc.Sized, \\n            collections.abc.Iterable, \\n            collections.abc.Mapping, \\n            collections.abc.MutableMapping):\\n        print(isinstance(obj, tp), end=\" \")\\n    print()', '_isinstance({}) # 字典\\n_isinstance(collections.ChainMap())', 'import collections\\nimport collections.abc\\ndef _isinstance(obj):\\n    print(f\"{obj!r}: {type(obj).__name__}\", end=\" -> \")\\n    for tp in (collections.abc.Container, \\n            collections.abc.Sized, \\n            collections.abc.Iterable, \\n            collections.abc.Mapping, \\n            collections.abc.MutableMapping):\\n        print(isinstance(obj, tp), end=\" \")\\n    print()', '_isinstance({}) # 字典\\n_isinstance(collections.ChainMap())', 'import collections\\nimport collections.abc\\ndef _isinstance(obj):\\n    print(f\"{type(obj).__name__}\", end=\" -> \")\\n    for tp in (collections.abc.Container, \\n            collections.abc.Sized, \\n            collections.abc.Iterable, \\n            collections.abc.Mapping, \\n            collections.abc.MutableMapping):\\n        print(isinstance(obj, tp), end=\" \")\\n    print()', '_isinstance({}) # 字典\\n_isinstance(collections.ChainMap())', '_isinstance({}) # 字典\\n_isinstance(collections.ChainMap())\\n_isinstance(collections.defaultdict())', 'import collections\\nimport collections.abc\\nimport types\\ndef _isinstance(obj):\\n    print(f\"{type(obj).__name__}\", end=\" -> \")\\n    for tp in (collections.abc.Container, \\n            collections.abc.Sized, \\n            collections.abc.Iterable, \\n            collections.abc.Mapping, \\n            collections.abc.MutableMapping):\\n        print(isinstance(obj, tp), end=\" \")\\n    print()', '_isinstance({}) # 字典\\n_isinstance(collections.ChainMap())\\n_isinstance(collections.defaultdict())\\n_isinstance(collections.OrderedDict())\\n_isinstance(collections.Counter())\\n_isinstance(types.MappingProxyType())', '_isinstance({}) # 字典\\n_isinstance(collections.ChainMap())\\n_isinstance(collections.defaultdict())\\n_isinstance(collections.OrderedDict())\\n_isinstance(collections.Counter())\\n_isinstance(types.MappingProxyType({}))', '_isinstance({}) # 字典\\n_isinstance(collections.ChainMap())\\n_isinstance(collections.defaultdict())\\n_isinstance(collections.OrderedDict())\\n_isinstance(collections.Counter())\\n_isinstance(types.MappingProxyType({}))     # 不可变映射', '_isinstance({})\\n_isinstance(collections.ChainMap())\\n_isinstance(collections.defaultdict())\\n_isinstance(collections.OrderedDict())\\n_isinstance(collections.Counter())\\n_isinstance(types.MappingProxyType({}))     # 不可变映射', 'from collections import abc\\nmy_dict = {}\\nisinstance(my_dict, dict),  isinstance(my_dict, abc.Mapping), isinstance(my_dict, abc.MutableMapping)', 'print(abc.Mapping.__doc__)', 'import collections\\nimport collections.abc\\nimport types\\ndef _isinstance(obj):\\n    print(f\"{type(obj).__name__}\", end=\" -> \")\\n    for tp in (collections.abc.Container, \\n            collections.abc.Sized, \\n            collections.abc.Iterable, \\n            collections.abc.Mapping, \\n            collections.abc.MutableMapping):\\n        print(isinstance(obj, tp), end=\" \")\\n    print()', '_isinstance({})\\n_isinstance(collections.ChainMap())\\n_isinstance(collections.defaultdict())\\n_isinstance(collections.OrderedDict())\\n_isinstance(collections.Counter())\\n_isinstance(types.MappingProxyType({}))     # 不可变映射', 'tt1 = (1, 2, (30, 40))\\ntt2 = (1, 2, (30, 40))\\ntt3 = ((30, 40), 1, 2)\\nhash(tt1), hash(tt2), hash(tt3)', 't1 = (1, 2, [30, 40])\\nhash(t1)', 'class Preson:\\n    pass\\npreson = Preson()\\nhash(preson),  hash(id(preson))', \"DIAL_CODES = [\\n        (86, 'China'),\\n        (91, 'India'),\\n        (1, 'United States'),\\n        (62, 'Indonesia'),\\n        (55, 'Brazil'),\\n        (92, 'Pakistan'),\\n        (880, 'Bangladesh'),\\n        (234, 'Nigeria'),\\n        (7, 'Russia'),\\n        (81, 'Japan'),\\n]\", 'country_code = {country: code for code, country in DIAL_CODES}\\ncountry_code', 'country_code = {code:country.upper() for code, country in DIAL_CODES if code <= 66}\\ncountry_code', 'from collections import defaultdict\\n\\n# 统计字符出现的次数\\ntext = \"hello world\"\\n# char_count = defaultdict(int)\\nchar_count = defaultdict(lambda: -1)    # 设置默认值\\nfor char in text:\\n    char_count[char] += 1\\nprint(char_count)', \"char_count['s']\", \"from collections import OrderedDict\\n\\n# 创建一个 OrderedDict\\nordered_dict = OrderedDict()\\n\\n# 添加键值对\\nordered_dict['a'] = 1\\nordered_dict['b'] = 2\\nordered_dict['c'] = 3\\n\\n# 访问值\\nprint(ordered_dict['a'])  # 输出：1\\n\\n# 迭代\\nfor key, value in ordered_dict.items():\\n    print(key, value)\", 'country_code.setdefault(22, \"E\")\\ncountry_code', \"country_code.setdefault(23, {})['H'] = 3\\ncountry_code\", \"# 使用 if 方式进行键查询并更新\\nif 23 not in country_code:\\n    country_code[23] = {}\\ncountry_code[23]['e']  = 3\\ncountry_code\", 'class StrKeyDict0(dict): \\n    def __missing__(self, key):\\n        if isinstance(key, str):  \\n            raise KeyError(key)\\n        return self[str(key)]  \\n    def get(self, key, default=None):\\n        try:\\n            return self[key]\\n        except KeyError:\\n            return default\\n        \\n    def __contains__(self, key):\\n        # return key in self or str(key) in self  # 使用更Python的写法, 会导致递归调用 __contains__ \\n        return key in self.keys() or str(key) in self.keys()  ', \"d = StrKeyDict0([('2', 'two' ), ('4', 'four')])\\nd['2'], d['4']\", '# missing 方法将数字2 转为了字符串\\nd[2]', 'd[1]    # 对于不存在情况抛出异常', '2 in d', 'import builtins\\nfrom collections import ChainMap\\n\\npylookup = ChainMap(locals(), globals(), vars(builtins))\\npylookup'], '_oh': {23: (True, True, True), 27: (-3907003130834322577, -3907003130834322577, -7033943840296421773), 29: (135740654777, 2171850476432), 31: {'China': 86, 'India': 91, 'United States': 1, 'Indonesia': 62, 'Brazil': 55, 'Pakistan': 92, 'Bangladesh': 880, 'Nigeria': 234, 'Russia': 7, 'Japan': 81}, 32: {1: 'UNITED STATES', 62: 'INDONESIA', 55: 'BRAZIL', 7: 'RUSSIA', 22: 'E', 23: {'H': 3, 'e': 3}}, 34: -1, 36: {1: 'UNITED STATES', 62: 'INDONESIA', 55: 'BRAZIL', 7: 'RUSSIA', 22: 'E', 23: {'H': 3, 'e': 3}}, 37: {1: 'UNITED STATES', 62: 'INDONESIA', 55: 'BRAZIL', 7: 'RUSSIA', 22: 'E', 23: {'H': 3, 'e': 3}}, 38: {1: 'UNITED STATES', 62: 'INDONESIA', 55: 'BRAZIL', 7: 'RUSSIA', 22: 'E', 23: {'H': 3, 'e': 3}}, 40: ('two', 'four'), 41: 'two', 43: True}, '_dh': [WindowsPath('d:/Desktop/CS/Python/Books/流畅的Python')], 'In': ['', 'import collections\\nimport collections.abc\\ndef _isinstance(obj):\\n    for tp in (collections.abc.Container, \\n            collections.abc.Sized, \\n            collections.abc.Iterable, \\n            collections.abc.Mapping, \\n            collections.abc.MutableMapping):\\n        print(isinstance(obj, tp), end=\" \")\\n    print()', 'import collections\\nimport collections.abc\\ndef _isinstance(obj):\\n    print(f\"{obj!r}: {type(obj)}\", end=\" \")\\n    for tp in (collections.abc.Container, \\n            collections.abc.Sized, \\n            collections.abc.Iterable, \\n            collections.abc.Mapping, \\n            collections.abc.MutableMapping):\\n        print(isinstance(obj, tp), end=\" \")\\n    print()', '_isinstance({}) # 字典\\n_isinstance(set())  # 集合', '_isinstance({}) # 字典\\n_isinstance(collections.ChainMap())', 'import collections\\nimport collections.abc\\ndef _isinstance(obj):\\n    print(f\"{obj!r}: {obj.__name__}\", end=\" \")\\n    for tp in (collections.abc.Container, \\n            collections.abc.Sized, \\n            collections.abc.Iterable, \\n            collections.abc.Mapping, \\n            collections.abc.MutableMapping):\\n        print(isinstance(obj, tp), end=\" \")\\n    print()', '_isinstance({}) # 字典\\n_isinstance(collections.ChainMap())', 'import collections\\nimport collections.abc\\ndef _isinstance(obj):\\n    print(f\"{obj!r}: {obj.__name__()}\", end=\" \")\\n    for tp in (collections.abc.Container, \\n            collections.abc.Sized, \\n            collections.abc.Iterable, \\n            collections.abc.Mapping, \\n            collections.abc.MutableMapping):\\n        print(isinstance(obj, tp), end=\" \")\\n    print()', '_isinstance({}) # 字典\\n_isinstance(collections.ChainMap())', 'import collections\\nimport collections.abc\\ndef _isinstance(obj):\\n    print(f\"{obj!r}: {type(obj).__name__}\", end=\" \")\\n    for tp in (collections.abc.Container, \\n            collections.abc.Sized, \\n            collections.abc.Iterable, \\n            collections.abc.Mapping, \\n            collections.abc.MutableMapping):\\n        print(isinstance(obj, tp), end=\" \")\\n    print()', '_isinstance({}) # 字典\\n_isinstance(collections.ChainMap())', 'import collections\\nimport collections.abc\\ndef _isinstance(obj):\\n    print(f\"{obj!r}: {type(obj).__name__}\", end=\" ->\")\\n    for tp in (collections.abc.Container, \\n            collections.abc.Sized, \\n            collections.abc.Iterable, \\n            collections.abc.Mapping, \\n            collections.abc.MutableMapping):\\n        print(isinstance(obj, tp), end=\" \")\\n    print()', '_isinstance({}) # 字典\\n_isinstance(collections.ChainMap())', 'import collections\\nimport collections.abc\\ndef _isinstance(obj):\\n    print(f\"{obj!r}: {type(obj).__name__}\", end=\" -> \")\\n    for tp in (collections.abc.Container, \\n            collections.abc.Sized, \\n            collections.abc.Iterable, \\n            collections.abc.Mapping, \\n            collections.abc.MutableMapping):\\n        print(isinstance(obj, tp), end=\" \")\\n    print()', '_isinstance({}) # 字典\\n_isinstance(collections.ChainMap())', 'import collections\\nimport collections.abc\\ndef _isinstance(obj):\\n    print(f\"{type(obj).__name__}\", end=\" -> \")\\n    for tp in (collections.abc.Container, \\n            collections.abc.Sized, \\n            collections.abc.Iterable, \\n            collections.abc.Mapping, \\n            collections.abc.MutableMapping):\\n        print(isinstance(obj, tp), end=\" \")\\n    print()', '_isinstance({}) # 字典\\n_isinstance(collections.ChainMap())', '_isinstance({}) # 字典\\n_isinstance(collections.ChainMap())\\n_isinstance(collections.defaultdict())', 'import collections\\nimport collections.abc\\nimport types\\ndef _isinstance(obj):\\n    print(f\"{type(obj).__name__}\", end=\" -> \")\\n    for tp in (collections.abc.Container, \\n            collections.abc.Sized, \\n            collections.abc.Iterable, \\n            collections.abc.Mapping, \\n            collections.abc.MutableMapping):\\n        print(isinstance(obj, tp), end=\" \")\\n    print()', '_isinstance({}) # 字典\\n_isinstance(collections.ChainMap())\\n_isinstance(collections.defaultdict())\\n_isinstance(collections.OrderedDict())\\n_isinstance(collections.Counter())\\n_isinstance(types.MappingProxyType())', '_isinstance({}) # 字典\\n_isinstance(collections.ChainMap())\\n_isinstance(collections.defaultdict())\\n_isinstance(collections.OrderedDict())\\n_isinstance(collections.Counter())\\n_isinstance(types.MappingProxyType({}))', '_isinstance({}) # 字典\\n_isinstance(collections.ChainMap())\\n_isinstance(collections.defaultdict())\\n_isinstance(collections.OrderedDict())\\n_isinstance(collections.Counter())\\n_isinstance(types.MappingProxyType({}))     # 不可变映射', '_isinstance({})\\n_isinstance(collections.ChainMap())\\n_isinstance(collections.defaultdict())\\n_isinstance(collections.OrderedDict())\\n_isinstance(collections.Counter())\\n_isinstance(types.MappingProxyType({}))     # 不可变映射', 'from collections import abc\\nmy_dict = {}\\nisinstance(my_dict, dict),  isinstance(my_dict, abc.Mapping), isinstance(my_dict, abc.MutableMapping)', 'print(abc.Mapping.__doc__)', 'import collections\\nimport collections.abc\\nimport types\\ndef _isinstance(obj):\\n    print(f\"{type(obj).__name__}\", end=\" -> \")\\n    for tp in (collections.abc.Container, \\n            collections.abc.Sized, \\n            collections.abc.Iterable, \\n            collections.abc.Mapping, \\n            collections.abc.MutableMapping):\\n        print(isinstance(obj, tp), end=\" \")\\n    print()', '_isinstance({})\\n_isinstance(collections.ChainMap())\\n_isinstance(collections.defaultdict())\\n_isinstance(collections.OrderedDict())\\n_isinstance(collections.Counter())\\n_isinstance(types.MappingProxyType({}))     # 不可变映射', 'tt1 = (1, 2, (30, 40))\\ntt2 = (1, 2, (30, 40))\\ntt3 = ((30, 40), 1, 2)\\nhash(tt1), hash(tt2), hash(tt3)', 't1 = (1, 2, [30, 40])\\nhash(t1)', 'class Preson:\\n    pass\\npreson = Preson()\\nhash(preson),  hash(id(preson))', \"DIAL_CODES = [\\n        (86, 'China'),\\n        (91, 'India'),\\n        (1, 'United States'),\\n        (62, 'Indonesia'),\\n        (55, 'Brazil'),\\n        (92, 'Pakistan'),\\n        (880, 'Bangladesh'),\\n        (234, 'Nigeria'),\\n        (7, 'Russia'),\\n        (81, 'Japan'),\\n]\", 'country_code = {country: code for code, country in DIAL_CODES}\\ncountry_code', 'country_code = {code:country.upper() for code, country in DIAL_CODES if code <= 66}\\ncountry_code', 'from collections import defaultdict\\n\\n# 统计字符出现的次数\\ntext = \"hello world\"\\n# char_count = defaultdict(int)\\nchar_count = defaultdict(lambda: -1)    # 设置默认值\\nfor char in text:\\n    char_count[char] += 1\\nprint(char_count)', \"char_count['s']\", \"from collections import OrderedDict\\n\\n# 创建一个 OrderedDict\\nordered_dict = OrderedDict()\\n\\n# 添加键值对\\nordered_dict['a'] = 1\\nordered_dict['b'] = 2\\nordered_dict['c'] = 3\\n\\n# 访问值\\nprint(ordered_dict['a'])  # 输出：1\\n\\n# 迭代\\nfor key, value in ordered_dict.items():\\n    print(key, value)\", 'country_code.setdefault(22, \"E\")\\ncountry_code', \"country_code.setdefault(23, {})['H'] = 3\\ncountry_code\", \"# 使用 if 方式进行键查询并更新\\nif 23 not in country_code:\\n    country_code[23] = {}\\ncountry_code[23]['e']  = 3\\ncountry_code\", 'class StrKeyDict0(dict): \\n    def __missing__(self, key):\\n        if isinstance(key, str):  \\n            raise KeyError(key)\\n        return self[str(key)]  \\n    def get(self, key, default=None):\\n        try:\\n            return self[key]\\n        except KeyError:\\n            return default\\n        \\n    def __contains__(self, key):\\n        # return key in self or str(key) in self  # 使用更Python的写法, 会导致递归调用 __contains__ \\n        return key in self.keys() or str(key) in self.keys()  ', \"d = StrKeyDict0([('2', 'two' ), ('4', 'four')])\\nd['2'], d['4']\", '# missing 方法将数字2 转为了字符串\\nd[2]', 'd[1]    # 对于不存在情况抛出异常', '2 in d', 'import builtins\\nfrom collections import ChainMap\\n\\npylookup = ChainMap(locals(), globals(), vars(builtins))\\npylookup'], 'Out': {23: (True, True, True), 27: (-3907003130834322577, -3907003130834322577, -7033943840296421773), 29: (135740654777, 2171850476432), 31: {'China': 86, 'India': 91, 'United States': 1, 'Indonesia': 62, 'Brazil': 55, 'Pakistan': 92, 'Bangladesh': 880, 'Nigeria': 234, 'Russia': 7, 'Japan': 81}, 32: {1: 'UNITED STATES', 62: 'INDONESIA', 55: 'BRAZIL', 7: 'RUSSIA', 22: 'E', 23: {'H': 3, 'e': 3}}, 34: -1, 36: {1: 'UNITED STATES', 62: 'INDONESIA', 55: 'BRAZIL', 7: 'RUSSIA', 22: 'E', 23: {'H': 3, 'e': 3}}, 37: {1: 'UNITED STATES', 62: 'INDONESIA', 55: 'BRAZIL', 7: 'RUSSIA', 22: 'E', 23: {'H': 3, 'e': 3}}, 38: {1: 'UNITED STATES', 62: 'INDONESIA', 55: 'BRAZIL', 7: 'RUSSIA', 22: 'E', 23: {'H': 3, 'e': 3}}, 40: ('two', 'four'), 41: 'two', 43: True}, 'get_ipython': <bound method InteractiveShell.get_ipython of <ipykernel.zmqshell.ZMQInteractiveShell object at 0x000001F9AC551A10>>, 'exit': <IPython.core.autocall.ZMQExitAutocall object at 0x000001F9AC5628D0>, 'quit': <IPython.core.autocall.ZMQExitAutocall object at 0x000001F9AC5628D0>, 'open': <function open at 0x000001F9AA67E2A0>, '_': True, '__': 'two', '___': ('two', 'four'), '__vsc_ipynb_file__': 'd:\\\\Desktop\\\\CS\\\\Python\\\\Books\\\\流畅的Python\\\\03.字典与集合.ipynb', '_i': '2 in d', '_ii': 'd[1]    # 对于不存在情况抛出异常', '_iii': '# missing 方法将数字2 转为了字符串\\nd[2]', '_i1': 'import collections\\nimport collections.abc\\ndef _isinstance(obj):\\n    for tp in (collections.abc.Container, \\n            collections.abc.Sized, \\n            collections.abc.Iterable, \\n            collections.abc.Mapping, \\n            collections.abc.MutableMapping):\\n        print(isinstance(obj, tp), end=\" \")\\n    print()', 'collections': <module 'collections' from 'c:\\\\Users\\\\19145\\\\.conda\\\\envs\\\\ai\\\\Lib\\\\collections\\\\__init__.py'>, '_isinstance': <function _isinstance at 0x000001F9AC959260>, '_i2': 'import collections\\nimport collections.abc\\ndef _isinstance(obj):\\n    print(f\"{obj!r}: {type(obj)}\", end=\" \")\\n    for tp in (collections.abc.Container, \\n            collections.abc.Sized, \\n            collections.abc.Iterable, \\n            collections.abc.Mapping, \\n            collections.abc.MutableMapping):\\n        print(isinstance(obj, tp), end=\" \")\\n    print()', '_i3': '_isinstance({}) # 字典\\n_isinstance(set())  # 集合', '_i4': '_isinstance({}) # 字典\\n_isinstance(collections.ChainMap())', '_i5': 'import collections\\nimport collections.abc\\ndef _isinstance(obj):\\n    print(f\"{obj!r}: {obj.__name__}\", end=\" \")\\n    for tp in (collections.abc.Container, \\n            collections.abc.Sized, \\n            collections.abc.Iterable, \\n            collections.abc.Mapping, \\n            collections.abc.MutableMapping):\\n        print(isinstance(obj, tp), end=\" \")\\n    print()', '_i6': '_isinstance({}) # 字典\\n_isinstance(collections.ChainMap())', '_i7': 'import collections\\nimport collections.abc\\ndef _isinstance(obj):\\n    print(f\"{obj!r}: {obj.__name__()}\", end=\" \")\\n    for tp in (collections.abc.Container, \\n            collections.abc.Sized, \\n            collections.abc.Iterable, \\n            collections.abc.Mapping, \\n            collections.abc.MutableMapping):\\n        print(isinstance(obj, tp), end=\" \")\\n    print()', '_i8': '_isinstance({}) # 字典\\n_isinstance(collections.ChainMap())', '_i9': 'import collections\\nimport collections.abc\\ndef _isinstance(obj):\\n    print(f\"{obj!r}: {type(obj).__name__}\", end=\" \")\\n    for tp in (collections.abc.Container, \\n            collections.abc.Sized, \\n            collections.abc.Iterable, \\n            collections.abc.Mapping, \\n            collections.abc.MutableMapping):\\n        print(isinstance(obj, tp), end=\" \")\\n    print()', '_i10': '_isinstance({}) # 字典\\n_isinstance(collections.ChainMap())', '_i11': 'import collections\\nimport collections.abc\\ndef _isinstance(obj):\\n    print(f\"{obj!r}: {type(obj).__name__}\", end=\" ->\")\\n    for tp in (collections.abc.Container, \\n            collections.abc.Sized, \\n            collections.abc.Iterable, \\n            collections.abc.Mapping, \\n            collections.abc.MutableMapping):\\n        print(isinstance(obj, tp), end=\" \")\\n    print()', '_i12': '_isinstance({}) # 字典\\n_isinstance(collections.ChainMap())', '_i13': 'import collections\\nimport collections.abc\\ndef _isinstance(obj):\\n    print(f\"{obj!r}: {type(obj).__name__}\", end=\" -> \")\\n    for tp in (collections.abc.Container, \\n            collections.abc.Sized, \\n            collections.abc.Iterable, \\n            collections.abc.Mapping, \\n            collections.abc.MutableMapping):\\n        print(isinstance(obj, tp), end=\" \")\\n    print()', '_i14': '_isinstance({}) # 字典\\n_isinstance(collections.ChainMap())', '_i15': 'import collections\\nimport collections.abc\\ndef _isinstance(obj):\\n    print(f\"{type(obj).__name__}\", end=\" -> \")\\n    for tp in (collections.abc.Container, \\n            collections.abc.Sized, \\n            collections.abc.Iterable, \\n            collections.abc.Mapping, \\n            collections.abc.MutableMapping):\\n        print(isinstance(obj, tp), end=\" \")\\n    print()', '_i16': '_isinstance({}) # 字典\\n_isinstance(collections.ChainMap())', '_i17': '_isinstance({}) # 字典\\n_isinstance(collections.ChainMap())\\n_isinstance(collections.defaultdict())', '_i18': 'import collections\\nimport collections.abc\\nimport types\\ndef _isinstance(obj):\\n    print(f\"{type(obj).__name__}\", end=\" -> \")\\n    for tp in (collections.abc.Container, \\n            collections.abc.Sized, \\n            collections.abc.Iterable, \\n            collections.abc.Mapping, \\n            collections.abc.MutableMapping):\\n        print(isinstance(obj, tp), end=\" \")\\n    print()', 'types': <module 'types' from 'c:\\\\Users\\\\19145\\\\.conda\\\\envs\\\\ai\\\\Lib\\\\types.py'>, '_i19': '_isinstance({}) # 字典\\n_isinstance(collections.ChainMap())\\n_isinstance(collections.defaultdict())\\n_isinstance(collections.OrderedDict())\\n_isinstance(collections.Counter())\\n_isinstance(types.MappingProxyType())', '_i20': '_isinstance({}) # 字典\\n_isinstance(collections.ChainMap())\\n_isinstance(collections.defaultdict())\\n_isinstance(collections.OrderedDict())\\n_isinstance(collections.Counter())\\n_isinstance(types.MappingProxyType({}))', '_i21': '_isinstance({}) # 字典\\n_isinstance(collections.ChainMap())\\n_isinstance(collections.defaultdict())\\n_isinstance(collections.OrderedDict())\\n_isinstance(collections.Counter())\\n_isinstance(types.MappingProxyType({}))     # 不可变映射', '_i22': '_isinstance({})\\n_isinstance(collections.ChainMap())\\n_isinstance(collections.defaultdict())\\n_isinstance(collections.OrderedDict())\\n_isinstance(collections.Counter())\\n_isinstance(types.MappingProxyType({}))     # 不可变映射', '_i23': 'from collections import abc\\nmy_dict = {}\\nisinstance(my_dict, dict),  isinstance(my_dict, abc.Mapping), isinstance(my_dict, abc.MutableMapping)', 'abc': <module 'collections.abc' from 'c:\\\\Users\\\\19145\\\\.conda\\\\envs\\\\ai\\\\Lib\\\\collections\\\\abc.py'>, 'my_dict': {}, '_23': (True, True, True), '_i24': 'print(abc.Mapping.__doc__)', '_i25': 'import collections\\nimport collections.abc\\nimport types\\ndef _isinstance(obj):\\n    print(f\"{type(obj).__name__}\", end=\" -> \")\\n    for tp in (collections.abc.Container, \\n            collections.abc.Sized, \\n            collections.abc.Iterable, \\n            collections.abc.Mapping, \\n            collections.abc.MutableMapping):\\n        print(isinstance(obj, tp), end=\" \")\\n    print()', '_i26': '_isinstance({})\\n_isinstance(collections.ChainMap())\\n_isinstance(collections.defaultdict())\\n_isinstance(collections.OrderedDict())\\n_isinstance(collections.Counter())\\n_isinstance(types.MappingProxyType({}))     # 不可变映射', '_i27': 'tt1 = (1, 2, (30, 40))\\ntt2 = (1, 2, (30, 40))\\ntt3 = ((30, 40), 1, 2)\\nhash(tt1), hash(tt2), hash(tt3)', 'tt1': (1, 2, (30, 40)), 'tt2': (1, 2, (30, 40)), 'tt3': ((30, 40), 1, 2), '_27': (-3907003130834322577, -3907003130834322577, -7033943840296421773), '_i28': 't1 = (1, 2, [30, 40])\\nhash(t1)', 't1': (1, 2, [30, 40]), '_i29': 'class Preson:\\n    pass\\npreson = Preson()\\nhash(preson),  hash(id(preson))', 'Preson': <class '__main__.Preson'>, 'preson': <__main__.Preson object at 0x000001F9AC604B90>, '_29': (135740654777, 2171850476432), '_i30': \"DIAL_CODES = [\\n        (86, 'China'),\\n        (91, 'India'),\\n        (1, 'United States'),\\n        (62, 'Indonesia'),\\n        (55, 'Brazil'),\\n        (92, 'Pakistan'),\\n        (880, 'Bangladesh'),\\n        (234, 'Nigeria'),\\n        (7, 'Russia'),\\n        (81, 'Japan'),\\n]\", 'DIAL_CODES': [(86, 'China'), (91, 'India'), (1, 'United States'), (62, 'Indonesia'), (55, 'Brazil'), (92, 'Pakistan'), (880, 'Bangladesh'), (234, 'Nigeria'), (7, 'Russia'), (81, 'Japan')], '_i31': 'country_code = {country: code for code, country in DIAL_CODES}\\ncountry_code', 'country_code': {1: 'UNITED STATES', 62: 'INDONESIA', 55: 'BRAZIL', 7: 'RUSSIA', 22: 'E', 23: {'H': 3, 'e': 3}}, '_31': {'China': 86, 'India': 91, 'United States': 1, 'Indonesia': 62, 'Brazil': 55, 'Pakistan': 92, 'Bangladesh': 880, 'Nigeria': 234, 'Russia': 7, 'Japan': 81}, '_i32': 'country_code = {code:country.upper() for code, country in DIAL_CODES if code <= 66}\\ncountry_code', '_32': {1: 'UNITED STATES', 62: 'INDONESIA', 55: 'BRAZIL', 7: 'RUSSIA', 22: 'E', 23: {'H': 3, 'e': 3}}, '_i33': 'from collections import defaultdict\\n\\n# 统计字符出现的次数\\ntext = \"hello world\"\\n# char_count = defaultdict(int)\\nchar_count = defaultdict(lambda: -1)    # 设置默认值\\nfor char in text:\\n    char_count[char] += 1\\nprint(char_count)', 'defaultdict': <class 'collections.defaultdict'>, 'text': 'hello world', 'char_count': defaultdict(<function <lambda> at 0x000001F9AC959A80>, {'h': 0, 'e': 0, 'l': 2, 'o': 1, ' ': 0, 'w': 0, 'r': 0, 'd': 0, 's': -1}), 'char': 'd', '_i34': \"char_count['s']\", '_34': -1, '_i35': \"from collections import OrderedDict\\n\\n# 创建一个 OrderedDict\\nordered_dict = OrderedDict()\\n\\n# 添加键值对\\nordered_dict['a'] = 1\\nordered_dict['b'] = 2\\nordered_dict['c'] = 3\\n\\n# 访问值\\nprint(ordered_dict['a'])  # 输出：1\\n\\n# 迭代\\nfor key, value in ordered_dict.items():\\n    print(key, value)\", 'OrderedDict': <class 'collections.OrderedDict'>, 'ordered_dict': OrderedDict([('a', 1), ('b', 2), ('c', 3)]), 'key': 'c', 'value': 3, '_i36': 'country_code.setdefault(22, \"E\")\\ncountry_code', '_36': {1: 'UNITED STATES', 62: 'INDONESIA', 55: 'BRAZIL', 7: 'RUSSIA', 22: 'E', 23: {'H': 3, 'e': 3}}, '_i37': \"country_code.setdefault(23, {})['H'] = 3\\ncountry_code\", '_37': {1: 'UNITED STATES', 62: 'INDONESIA', 55: 'BRAZIL', 7: 'RUSSIA', 22: 'E', 23: {'H': 3, 'e': 3}}, '_i38': \"# 使用 if 方式进行键查询并更新\\nif 23 not in country_code:\\n    country_code[23] = {}\\ncountry_code[23]['e']  = 3\\ncountry_code\", '_38': {1: 'UNITED STATES', 62: 'INDONESIA', 55: 'BRAZIL', 7: 'RUSSIA', 22: 'E', 23: {'H': 3, 'e': 3}}, '_i39': 'class StrKeyDict0(dict): \\n    def __missing__(self, key):\\n        if isinstance(key, str):  \\n            raise KeyError(key)\\n        return self[str(key)]  \\n    def get(self, key, default=None):\\n        try:\\n            return self[key]\\n        except KeyError:\\n            return default\\n        \\n    def __contains__(self, key):\\n        # return key in self or str(key) in self  # 使用更Python的写法, 会导致递归调用 __contains__ \\n        return key in self.keys() or str(key) in self.keys()  ', 'StrKeyDict0': <class '__main__.StrKeyDict0'>, '_i40': \"d = StrKeyDict0([('2', 'two' ), ('4', 'four')])\\nd['2'], d['4']\", 'd': {'2': 'two', '4': 'four'}, '_40': ('two', 'four'), '_i41': '# missing 方法将数字2 转为了字符串\\nd[2]', '_41': 'two', '_i42': 'd[1]    # 对于不存在情况抛出异常', '_i43': '2 in d', '_43': True, '_i44': 'import builtins\\nfrom collections import ChainMap\\n\\npylookup = ChainMap(locals(), globals(), vars(builtins))\\npylookup', 'builtins': <module 'builtins' (built-in)>, 'ChainMap': <class 'collections.ChainMap'>, 'pylookup': ...}, {'__name__': '__main__', '__doc__': 'Automatically created module for IPython interactive environment', '__package__': None, '__loader__': None, '__spec__': None, '__builtin__': <module 'builtins' (built-in)>, '__builtins__': <module 'builtins' (built-in)>, '_ih': ['', 'import collections\\nimport collections.abc\\ndef _isinstance(obj):\\n    for tp in (collections.abc.Container, \\n            collections.abc.Sized, \\n            collections.abc.Iterable, \\n            collections.abc.Mapping, \\n            collections.abc.MutableMapping):\\n        print(isinstance(obj, tp), end=\" \")\\n    print()', 'import collections\\nimport collections.abc\\ndef _isinstance(obj):\\n    print(f\"{obj!r}: {type(obj)}\", end=\" \")\\n    for tp in (collections.abc.Container, \\n            collections.abc.Sized, \\n            collections.abc.Iterable, \\n            collections.abc.Mapping, \\n            collections.abc.MutableMapping):\\n        print(isinstance(obj, tp), end=\" \")\\n    print()', '_isinstance({}) # 字典\\n_isinstance(set())  # 集合', '_isinstance({}) # 字典\\n_isinstance(collections.ChainMap())', 'import collections\\nimport collections.abc\\ndef _isinstance(obj):\\n    print(f\"{obj!r}: {obj.__name__}\", end=\" \")\\n    for tp in (collections.abc.Container, \\n            collections.abc.Sized, \\n            collections.abc.Iterable, \\n            collections.abc.Mapping, \\n            collections.abc.MutableMapping):\\n        print(isinstance(obj, tp), end=\" \")\\n    print()', '_isinstance({}) # 字典\\n_isinstance(collections.ChainMap())', 'import collections\\nimport collections.abc\\ndef _isinstance(obj):\\n    print(f\"{obj!r}: {obj.__name__()}\", end=\" \")\\n    for tp in (collections.abc.Container, \\n            collections.abc.Sized, \\n            collections.abc.Iterable, \\n            collections.abc.Mapping, \\n            collections.abc.MutableMapping):\\n        print(isinstance(obj, tp), end=\" \")\\n    print()', '_isinstance({}) # 字典\\n_isinstance(collections.ChainMap())', 'import collections\\nimport collections.abc\\ndef _isinstance(obj):\\n    print(f\"{obj!r}: {type(obj).__name__}\", end=\" \")\\n    for tp in (collections.abc.Container, \\n            collections.abc.Sized, \\n            collections.abc.Iterable, \\n            collections.abc.Mapping, \\n            collections.abc.MutableMapping):\\n        print(isinstance(obj, tp), end=\" \")\\n    print()', '_isinstance({}) # 字典\\n_isinstance(collections.ChainMap())', 'import collections\\nimport collections.abc\\ndef _isinstance(obj):\\n    print(f\"{obj!r}: {type(obj).__name__}\", end=\" ->\")\\n    for tp in (collections.abc.Container, \\n            collections.abc.Sized, \\n            collections.abc.Iterable, \\n            collections.abc.Mapping, \\n            collections.abc.MutableMapping):\\n        print(isinstance(obj, tp), end=\" \")\\n    print()', '_isinstance({}) # 字典\\n_isinstance(collections.ChainMap())', 'import collections\\nimport collections.abc\\ndef _isinstance(obj):\\n    print(f\"{obj!r}: {type(obj).__name__}\", end=\" -> \")\\n    for tp in (collections.abc.Container, \\n            collections.abc.Sized, \\n            collections.abc.Iterable, \\n            collections.abc.Mapping, \\n            collections.abc.MutableMapping):\\n        print(isinstance(obj, tp), end=\" \")\\n    print()', '_isinstance({}) # 字典\\n_isinstance(collections.ChainMap())', 'import collections\\nimport collections.abc\\ndef _isinstance(obj):\\n    print(f\"{type(obj).__name__}\", end=\" -> \")\\n    for tp in (collections.abc.Container, \\n            collections.abc.Sized, \\n            collections.abc.Iterable, \\n            collections.abc.Mapping, \\n            collections.abc.MutableMapping):\\n        print(isinstance(obj, tp), end=\" \")\\n    print()', '_isinstance({}) # 字典\\n_isinstance(collections.ChainMap())', '_isinstance({}) # 字典\\n_isinstance(collections.ChainMap())\\n_isinstance(collections.defaultdict())', 'import collections\\nimport collections.abc\\nimport types\\ndef _isinstance(obj):\\n    print(f\"{type(obj).__name__}\", end=\" -> \")\\n    for tp in (collections.abc.Container, \\n            collections.abc.Sized, \\n            collections.abc.Iterable, \\n            collections.abc.Mapping, \\n            collections.abc.MutableMapping):\\n        print(isinstance(obj, tp), end=\" \")\\n    print()', '_isinstance({}) # 字典\\n_isinstance(collections.ChainMap())\\n_isinstance(collections.defaultdict())\\n_isinstance(collections.OrderedDict())\\n_isinstance(collections.Counter())\\n_isinstance(types.MappingProxyType())', '_isinstance({}) # 字典\\n_isinstance(collections.ChainMap())\\n_isinstance(collections.defaultdict())\\n_isinstance(collections.OrderedDict())\\n_isinstance(collections.Counter())\\n_isinstance(types.MappingProxyType({}))', '_isinstance({}) # 字典\\n_isinstance(collections.ChainMap())\\n_isinstance(collections.defaultdict())\\n_isinstance(collections.OrderedDict())\\n_isinstance(collections.Counter())\\n_isinstance(types.MappingProxyType({}))     # 不可变映射', '_isinstance({})\\n_isinstance(collections.ChainMap())\\n_isinstance(collections.defaultdict())\\n_isinstance(collections.OrderedDict())\\n_isinstance(collections.Counter())\\n_isinstance(types.MappingProxyType({}))     # 不可变映射', 'from collections import abc\\nmy_dict = {}\\nisinstance(my_dict, dict),  isinstance(my_dict, abc.Mapping), isinstance(my_dict, abc.MutableMapping)', 'print(abc.Mapping.__doc__)', 'import collections\\nimport collections.abc\\nimport types\\ndef _isinstance(obj):\\n    print(f\"{type(obj).__name__}\", end=\" -> \")\\n    for tp in (collections.abc.Container, \\n            collections.abc.Sized, \\n            collections.abc.Iterable, \\n            collections.abc.Mapping, \\n            collections.abc.MutableMapping):\\n        print(isinstance(obj, tp), end=\" \")\\n    print()', '_isinstance({})\\n_isinstance(collections.ChainMap())\\n_isinstance(collections.defaultdict())\\n_isinstance(collections.OrderedDict())\\n_isinstance(collections.Counter())\\n_isinstance(types.MappingProxyType({}))     # 不可变映射', 'tt1 = (1, 2, (30, 40))\\ntt2 = (1, 2, (30, 40))\\ntt3 = ((30, 40), 1, 2)\\nhash(tt1), hash(tt2), hash(tt3)', 't1 = (1, 2, [30, 40])\\nhash(t1)', 'class Preson:\\n    pass\\npreson = Preson()\\nhash(preson),  hash(id(preson))', \"DIAL_CODES = [\\n        (86, 'China'),\\n        (91, 'India'),\\n        (1, 'United States'),\\n        (62, 'Indonesia'),\\n        (55, 'Brazil'),\\n        (92, 'Pakistan'),\\n        (880, 'Bangladesh'),\\n        (234, 'Nigeria'),\\n        (7, 'Russia'),\\n        (81, 'Japan'),\\n]\", 'country_code = {country: code for code, country in DIAL_CODES}\\ncountry_code', 'country_code = {code:country.upper() for code, country in DIAL_CODES if code <= 66}\\ncountry_code', 'from collections import defaultdict\\n\\n# 统计字符出现的次数\\ntext = \"hello world\"\\n# char_count = defaultdict(int)\\nchar_count = defaultdict(lambda: -1)    # 设置默认值\\nfor char in text:\\n    char_count[char] += 1\\nprint(char_count)', \"char_count['s']\", \"from collections import OrderedDict\\n\\n# 创建一个 OrderedDict\\nordered_dict = OrderedDict()\\n\\n# 添加键值对\\nordered_dict['a'] = 1\\nordered_dict['b'] = 2\\nordered_dict['c'] = 3\\n\\n# 访问值\\nprint(ordered_dict['a'])  # 输出：1\\n\\n# 迭代\\nfor key, value in ordered_dict.items():\\n    print(key, value)\", 'country_code.setdefault(22, \"E\")\\ncountry_code', \"country_code.setdefault(23, {})['H'] = 3\\ncountry_code\", \"# 使用 if 方式进行键查询并更新\\nif 23 not in country_code:\\n    country_code[23] = {}\\ncountry_code[23]['e']  = 3\\ncountry_code\", 'class StrKeyDict0(dict): \\n    def __missing__(self, key):\\n        if isinstance(key, str):  \\n            raise KeyError(key)\\n        return self[str(key)]  \\n    def get(self, key, default=None):\\n        try:\\n            return self[key]\\n        except KeyError:\\n            return default\\n        \\n    def __contains__(self, key):\\n        # return key in self or str(key) in self  # 使用更Python的写法, 会导致递归调用 __contains__ \\n        return key in self.keys() or str(key) in self.keys()  ', \"d = StrKeyDict0([('2', 'two' ), ('4', 'four')])\\nd['2'], d['4']\", '# missing 方法将数字2 转为了字符串\\nd[2]', 'd[1]    # 对于不存在情况抛出异常', '2 in d', 'import builtins\\nfrom collections import ChainMap\\n\\npylookup = ChainMap(locals(), globals(), vars(builtins))\\npylookup'], '_oh': {23: (True, True, True), 27: (-3907003130834322577, -3907003130834322577, -7033943840296421773), 29: (135740654777, 2171850476432), 31: {'China': 86, 'India': 91, 'United States': 1, 'Indonesia': 62, 'Brazil': 55, 'Pakistan': 92, 'Bangladesh': 880, 'Nigeria': 234, 'Russia': 7, 'Japan': 81}, 32: {1: 'UNITED STATES', 62: 'INDONESIA', 55: 'BRAZIL', 7: 'RUSSIA', 22: 'E', 23: {'H': 3, 'e': 3}}, 34: -1, 36: {1: 'UNITED STATES', 62: 'INDONESIA', 55: 'BRAZIL', 7: 'RUSSIA', 22: 'E', 23: {'H': 3, 'e': 3}}, 37: {1: 'UNITED STATES', 62: 'INDONESIA', 55: 'BRAZIL', 7: 'RUSSIA', 22: 'E', 23: {'H': 3, 'e': 3}}, 38: {1: 'UNITED STATES', 62: 'INDONESIA', 55: 'BRAZIL', 7: 'RUSSIA', 22: 'E', 23: {'H': 3, 'e': 3}}, 40: ('two', 'four'), 41: 'two', 43: True}, '_dh': [WindowsPath('d:/Desktop/CS/Python/Books/流畅的Python')], 'In': ['', 'import collections\\nimport collections.abc\\ndef _isinstance(obj):\\n    for tp in (collections.abc.Container, \\n            collections.abc.Sized, \\n            collections.abc.Iterable, \\n            collections.abc.Mapping, \\n            collections.abc.MutableMapping):\\n        print(isinstance(obj, tp), end=\" \")\\n    print()', 'import collections\\nimport collections.abc\\ndef _isinstance(obj):\\n    print(f\"{obj!r}: {type(obj)}\", end=\" \")\\n    for tp in (collections.abc.Container, \\n            collections.abc.Sized, \\n            collections.abc.Iterable, \\n            collections.abc.Mapping, \\n            collections.abc.MutableMapping):\\n        print(isinstance(obj, tp), end=\" \")\\n    print()', '_isinstance({}) # 字典\\n_isinstance(set())  # 集合', '_isinstance({}) # 字典\\n_isinstance(collections.ChainMap())', 'import collections\\nimport collections.abc\\ndef _isinstance(obj):\\n    print(f\"{obj!r}: {obj.__name__}\", end=\" \")\\n    for tp in (collections.abc.Container, \\n            collections.abc.Sized, \\n            collections.abc.Iterable, \\n            collections.abc.Mapping, \\n            collections.abc.MutableMapping):\\n        print(isinstance(obj, tp), end=\" \")\\n    print()', '_isinstance({}) # 字典\\n_isinstance(collections.ChainMap())', 'import collections\\nimport collections.abc\\ndef _isinstance(obj):\\n    print(f\"{obj!r}: {obj.__name__()}\", end=\" \")\\n    for tp in (collections.abc.Container, \\n            collections.abc.Sized, \\n            collections.abc.Iterable, \\n            collections.abc.Mapping, \\n            collections.abc.MutableMapping):\\n        print(isinstance(obj, tp), end=\" \")\\n    print()', '_isinstance({}) # 字典\\n_isinstance(collections.ChainMap())', 'import collections\\nimport collections.abc\\ndef _isinstance(obj):\\n    print(f\"{obj!r}: {type(obj).__name__}\", end=\" \")\\n    for tp in (collections.abc.Container, \\n            collections.abc.Sized, \\n            collections.abc.Iterable, \\n            collections.abc.Mapping, \\n            collections.abc.MutableMapping):\\n        print(isinstance(obj, tp), end=\" \")\\n    print()', '_isinstance({}) # 字典\\n_isinstance(collections.ChainMap())', 'import collections\\nimport collections.abc\\ndef _isinstance(obj):\\n    print(f\"{obj!r}: {type(obj).__name__}\", end=\" ->\")\\n    for tp in (collections.abc.Container, \\n            collections.abc.Sized, \\n            collections.abc.Iterable, \\n            collections.abc.Mapping, \\n            collections.abc.MutableMapping):\\n        print(isinstance(obj, tp), end=\" \")\\n    print()', '_isinstance({}) # 字典\\n_isinstance(collections.ChainMap())', 'import collections\\nimport collections.abc\\ndef _isinstance(obj):\\n    print(f\"{obj!r}: {type(obj).__name__}\", end=\" -> \")\\n    for tp in (collections.abc.Container, \\n            collections.abc.Sized, \\n            collections.abc.Iterable, \\n            collections.abc.Mapping, \\n            collections.abc.MutableMapping):\\n        print(isinstance(obj, tp), end=\" \")\\n    print()', '_isinstance({}) # 字典\\n_isinstance(collections.ChainMap())', 'import collections\\nimport collections.abc\\ndef _isinstance(obj):\\n    print(f\"{type(obj).__name__}\", end=\" -> \")\\n    for tp in (collections.abc.Container, \\n            collections.abc.Sized, \\n            collections.abc.Iterable, \\n            collections.abc.Mapping, \\n            collections.abc.MutableMapping):\\n        print(isinstance(obj, tp), end=\" \")\\n    print()', '_isinstance({}) # 字典\\n_isinstance(collections.ChainMap())', '_isinstance({}) # 字典\\n_isinstance(collections.ChainMap())\\n_isinstance(collections.defaultdict())', 'import collections\\nimport collections.abc\\nimport types\\ndef _isinstance(obj):\\n    print(f\"{type(obj).__name__}\", end=\" -> \")\\n    for tp in (collections.abc.Container, \\n            collections.abc.Sized, \\n            collections.abc.Iterable, \\n            collections.abc.Mapping, \\n            collections.abc.MutableMapping):\\n        print(isinstance(obj, tp), end=\" \")\\n    print()', '_isinstance({}) # 字典\\n_isinstance(collections.ChainMap())\\n_isinstance(collections.defaultdict())\\n_isinstance(collections.OrderedDict())\\n_isinstance(collections.Counter())\\n_isinstance(types.MappingProxyType())', '_isinstance({}) # 字典\\n_isinstance(collections.ChainMap())\\n_isinstance(collections.defaultdict())\\n_isinstance(collections.OrderedDict())\\n_isinstance(collections.Counter())\\n_isinstance(types.MappingProxyType({}))', '_isinstance({}) # 字典\\n_isinstance(collections.ChainMap())\\n_isinstance(collections.defaultdict())\\n_isinstance(collections.OrderedDict())\\n_isinstance(collections.Counter())\\n_isinstance(types.MappingProxyType({}))     # 不可变映射', '_isinstance({})\\n_isinstance(collections.ChainMap())\\n_isinstance(collections.defaultdict())\\n_isinstance(collections.OrderedDict())\\n_isinstance(collections.Counter())\\n_isinstance(types.MappingProxyType({}))     # 不可变映射', 'from collections import abc\\nmy_dict = {}\\nisinstance(my_dict, dict),  isinstance(my_dict, abc.Mapping), isinstance(my_dict, abc.MutableMapping)', 'print(abc.Mapping.__doc__)', 'import collections\\nimport collections.abc\\nimport types\\ndef _isinstance(obj):\\n    print(f\"{type(obj).__name__}\", end=\" -> \")\\n    for tp in (collections.abc.Container, \\n            collections.abc.Sized, \\n            collections.abc.Iterable, \\n            collections.abc.Mapping, \\n            collections.abc.MutableMapping):\\n        print(isinstance(obj, tp), end=\" \")\\n    print()', '_isinstance({})\\n_isinstance(collections.ChainMap())\\n_isinstance(collections.defaultdict())\\n_isinstance(collections.OrderedDict())\\n_isinstance(collections.Counter())\\n_isinstance(types.MappingProxyType({}))     # 不可变映射', 'tt1 = (1, 2, (30, 40))\\ntt2 = (1, 2, (30, 40))\\ntt3 = ((30, 40), 1, 2)\\nhash(tt1), hash(tt2), hash(tt3)', 't1 = (1, 2, [30, 40])\\nhash(t1)', 'class Preson:\\n    pass\\npreson = Preson()\\nhash(preson),  hash(id(preson))', \"DIAL_CODES = [\\n        (86, 'China'),\\n        (91, 'India'),\\n        (1, 'United States'),\\n        (62, 'Indonesia'),\\n        (55, 'Brazil'),\\n        (92, 'Pakistan'),\\n        (880, 'Bangladesh'),\\n        (234, 'Nigeria'),\\n        (7, 'Russia'),\\n        (81, 'Japan'),\\n]\", 'country_code = {country: code for code, country in DIAL_CODES}\\ncountry_code', 'country_code = {code:country.upper() for code, country in DIAL_CODES if code <= 66}\\ncountry_code', 'from collections import defaultdict\\n\\n# 统计字符出现的次数\\ntext = \"hello world\"\\n# char_count = defaultdict(int)\\nchar_count = defaultdict(lambda: -1)    # 设置默认值\\nfor char in text:\\n    char_count[char] += 1\\nprint(char_count)', \"char_count['s']\", \"from collections import OrderedDict\\n\\n# 创建一个 OrderedDict\\nordered_dict = OrderedDict()\\n\\n# 添加键值对\\nordered_dict['a'] = 1\\nordered_dict['b'] = 2\\nordered_dict['c'] = 3\\n\\n# 访问值\\nprint(ordered_dict['a'])  # 输出：1\\n\\n# 迭代\\nfor key, value in ordered_dict.items():\\n    print(key, value)\", 'country_code.setdefault(22, \"E\")\\ncountry_code', \"country_code.setdefault(23, {})['H'] = 3\\ncountry_code\", \"# 使用 if 方式进行键查询并更新\\nif 23 not in country_code:\\n    country_code[23] = {}\\ncountry_code[23]['e']  = 3\\ncountry_code\", 'class StrKeyDict0(dict): \\n    def __missing__(self, key):\\n        if isinstance(key, str):  \\n            raise KeyError(key)\\n        return self[str(key)]  \\n    def get(self, key, default=None):\\n        try:\\n            return self[key]\\n        except KeyError:\\n            return default\\n        \\n    def __contains__(self, key):\\n        # return key in self or str(key) in self  # 使用更Python的写法, 会导致递归调用 __contains__ \\n        return key in self.keys() or str(key) in self.keys()  ', \"d = StrKeyDict0([('2', 'two' ), ('4', 'four')])\\nd['2'], d['4']\", '# missing 方法将数字2 转为了字符串\\nd[2]', 'd[1]    # 对于不存在情况抛出异常', '2 in d', 'import builtins\\nfrom collections import ChainMap\\n\\npylookup = ChainMap(locals(), globals(), vars(builtins))\\npylookup'], 'Out': {23: (True, True, True), 27: (-3907003130834322577, -3907003130834322577, -7033943840296421773), 29: (135740654777, 2171850476432), 31: {'China': 86, 'India': 91, 'United States': 1, 'Indonesia': 62, 'Brazil': 55, 'Pakistan': 92, 'Bangladesh': 880, 'Nigeria': 234, 'Russia': 7, 'Japan': 81}, 32: {1: 'UNITED STATES', 62: 'INDONESIA', 55: 'BRAZIL', 7: 'RUSSIA', 22: 'E', 23: {'H': 3, 'e': 3}}, 34: -1, 36: {1: 'UNITED STATES', 62: 'INDONESIA', 55: 'BRAZIL', 7: 'RUSSIA', 22: 'E', 23: {'H': 3, 'e': 3}}, 37: {1: 'UNITED STATES', 62: 'INDONESIA', 55: 'BRAZIL', 7: 'RUSSIA', 22: 'E', 23: {'H': 3, 'e': 3}}, 38: {1: 'UNITED STATES', 62: 'INDONESIA', 55: 'BRAZIL', 7: 'RUSSIA', 22: 'E', 23: {'H': 3, 'e': 3}}, 40: ('two', 'four'), 41: 'two', 43: True}, 'get_ipython': <bound method InteractiveShell.get_ipython of <ipykernel.zmqshell.ZMQInteractiveShell object at 0x000001F9AC551A10>>, 'exit': <IPython.core.autocall.ZMQExitAutocall object at 0x000001F9AC5628D0>, 'quit': <IPython.core.autocall.ZMQExitAutocall object at 0x000001F9AC5628D0>, 'open': <function open at 0x000001F9AA67E2A0>, '_': True, '__': 'two', '___': ('two', 'four'), '__vsc_ipynb_file__': 'd:\\\\Desktop\\\\CS\\\\Python\\\\Books\\\\流畅的Python\\\\03.字典与集合.ipynb', '_i': '2 in d', '_ii': 'd[1]    # 对于不存在情况抛出异常', '_iii': '# missing 方法将数字2 转为了字符串\\nd[2]', '_i1': 'import collections\\nimport collections.abc\\ndef _isinstance(obj):\\n    for tp in (collections.abc.Container, \\n            collections.abc.Sized, \\n            collections.abc.Iterable, \\n            collections.abc.Mapping, \\n            collections.abc.MutableMapping):\\n        print(isinstance(obj, tp), end=\" \")\\n    print()', 'collections': <module 'collections' from 'c:\\\\Users\\\\19145\\\\.conda\\\\envs\\\\ai\\\\Lib\\\\collections\\\\__init__.py'>, '_isinstance': <function _isinstance at 0x000001F9AC959260>, '_i2': 'import collections\\nimport collections.abc\\ndef _isinstance(obj):\\n    print(f\"{obj!r}: {type(obj)}\", end=\" \")\\n    for tp in (collections.abc.Container, \\n            collections.abc.Sized, \\n            collections.abc.Iterable, \\n            collections.abc.Mapping, \\n            collections.abc.MutableMapping):\\n        print(isinstance(obj, tp), end=\" \")\\n    print()', '_i3': '_isinstance({}) # 字典\\n_isinstance(set())  # 集合', '_i4': '_isinstance({}) # 字典\\n_isinstance(collections.ChainMap())', '_i5': 'import collections\\nimport collections.abc\\ndef _isinstance(obj):\\n    print(f\"{obj!r}: {obj.__name__}\", end=\" \")\\n    for tp in (collections.abc.Container, \\n            collections.abc.Sized, \\n            collections.abc.Iterable, \\n            collections.abc.Mapping, \\n            collections.abc.MutableMapping):\\n        print(isinstance(obj, tp), end=\" \")\\n    print()', '_i6': '_isinstance({}) # 字典\\n_isinstance(collections.ChainMap())', '_i7': 'import collections\\nimport collections.abc\\ndef _isinstance(obj):\\n    print(f\"{obj!r}: {obj.__name__()}\", end=\" \")\\n    for tp in (collections.abc.Container, \\n            collections.abc.Sized, \\n            collections.abc.Iterable, \\n            collections.abc.Mapping, \\n            collections.abc.MutableMapping):\\n        print(isinstance(obj, tp), end=\" \")\\n    print()', '_i8': '_isinstance({}) # 字典\\n_isinstance(collections.ChainMap())', '_i9': 'import collections\\nimport collections.abc\\ndef _isinstance(obj):\\n    print(f\"{obj!r}: {type(obj).__name__}\", end=\" \")\\n    for tp in (collections.abc.Container, \\n            collections.abc.Sized, \\n            collections.abc.Iterable, \\n            collections.abc.Mapping, \\n            collections.abc.MutableMapping):\\n        print(isinstance(obj, tp), end=\" \")\\n    print()', '_i10': '_isinstance({}) # 字典\\n_isinstance(collections.ChainMap())', '_i11': 'import collections\\nimport collections.abc\\ndef _isinstance(obj):\\n    print(f\"{obj!r}: {type(obj).__name__}\", end=\" ->\")\\n    for tp in (collections.abc.Container, \\n            collections.abc.Sized, \\n            collections.abc.Iterable, \\n            collections.abc.Mapping, \\n            collections.abc.MutableMapping):\\n        print(isinstance(obj, tp), end=\" \")\\n    print()', '_i12': '_isinstance({}) # 字典\\n_isinstance(collections.ChainMap())', '_i13': 'import collections\\nimport collections.abc\\ndef _isinstance(obj):\\n    print(f\"{obj!r}: {type(obj).__name__}\", end=\" -> \")\\n    for tp in (collections.abc.Container, \\n            collections.abc.Sized, \\n            collections.abc.Iterable, \\n            collections.abc.Mapping, \\n            collections.abc.MutableMapping):\\n        print(isinstance(obj, tp), end=\" \")\\n    print()', '_i14': '_isinstance({}) # 字典\\n_isinstance(collections.ChainMap())', '_i15': 'import collections\\nimport collections.abc\\ndef _isinstance(obj):\\n    print(f\"{type(obj).__name__}\", end=\" -> \")\\n    for tp in (collections.abc.Container, \\n            collections.abc.Sized, \\n            collections.abc.Iterable, \\n            collections.abc.Mapping, \\n            collections.abc.MutableMapping):\\n        print(isinstance(obj, tp), end=\" \")\\n    print()', '_i16': '_isinstance({}) # 字典\\n_isinstance(collections.ChainMap())', '_i17': '_isinstance({}) # 字典\\n_isinstance(collections.ChainMap())\\n_isinstance(collections.defaultdict())', '_i18': 'import collections\\nimport collections.abc\\nimport types\\ndef _isinstance(obj):\\n    print(f\"{type(obj).__name__}\", end=\" -> \")\\n    for tp in (collections.abc.Container, \\n            collections.abc.Sized, \\n            collections.abc.Iterable, \\n            collections.abc.Mapping, \\n            collections.abc.MutableMapping):\\n        print(isinstance(obj, tp), end=\" \")\\n    print()', 'types': <module 'types' from 'c:\\\\Users\\\\19145\\\\.conda\\\\envs\\\\ai\\\\Lib\\\\types.py'>, '_i19': '_isinstance({}) # 字典\\n_isinstance(collections.ChainMap())\\n_isinstance(collections.defaultdict())\\n_isinstance(collections.OrderedDict())\\n_isinstance(collections.Counter())\\n_isinstance(types.MappingProxyType())', '_i20': '_isinstance({}) # 字典\\n_isinstance(collections.ChainMap())\\n_isinstance(collections.defaultdict())\\n_isinstance(collections.OrderedDict())\\n_isinstance(collections.Counter())\\n_isinstance(types.MappingProxyType({}))', '_i21': '_isinstance({}) # 字典\\n_isinstance(collections.ChainMap())\\n_isinstance(collections.defaultdict())\\n_isinstance(collections.OrderedDict())\\n_isinstance(collections.Counter())\\n_isinstance(types.MappingProxyType({}))     # 不可变映射', '_i22': '_isinstance({})\\n_isinstance(collections.ChainMap())\\n_isinstance(collections.defaultdict())\\n_isinstance(collections.OrderedDict())\\n_isinstance(collections.Counter())\\n_isinstance(types.MappingProxyType({}))     # 不可变映射', '_i23': 'from collections import abc\\nmy_dict = {}\\nisinstance(my_dict, dict),  isinstance(my_dict, abc.Mapping), isinstance(my_dict, abc.MutableMapping)', 'abc': <module 'collections.abc' from 'c:\\\\Users\\\\19145\\\\.conda\\\\envs\\\\ai\\\\Lib\\\\collections\\\\abc.py'>, 'my_dict': {}, '_23': (True, True, True), '_i24': 'print(abc.Mapping.__doc__)', '_i25': 'import collections\\nimport collections.abc\\nimport types\\ndef _isinstance(obj):\\n    print(f\"{type(obj).__name__}\", end=\" -> \")\\n    for tp in (collections.abc.Container, \\n            collections.abc.Sized, \\n            collections.abc.Iterable, \\n            collections.abc.Mapping, \\n            collections.abc.MutableMapping):\\n        print(isinstance(obj, tp), end=\" \")\\n    print()', '_i26': '_isinstance({})\\n_isinstance(collections.ChainMap())\\n_isinstance(collections.defaultdict())\\n_isinstance(collections.OrderedDict())\\n_isinstance(collections.Counter())\\n_isinstance(types.MappingProxyType({}))     # 不可变映射', '_i27': 'tt1 = (1, 2, (30, 40))\\ntt2 = (1, 2, (30, 40))\\ntt3 = ((30, 40), 1, 2)\\nhash(tt1), hash(tt2), hash(tt3)', 'tt1': (1, 2, (30, 40)), 'tt2': (1, 2, (30, 40)), 'tt3': ((30, 40), 1, 2), '_27': (-3907003130834322577, -3907003130834322577, -7033943840296421773), '_i28': 't1 = (1, 2, [30, 40])\\nhash(t1)', 't1': (1, 2, [30, 40]), '_i29': 'class Preson:\\n    pass\\npreson = Preson()\\nhash(preson),  hash(id(preson))', 'Preson': <class '__main__.Preson'>, 'preson': <__main__.Preson object at 0x000001F9AC604B90>, '_29': (135740654777, 2171850476432), '_i30': \"DIAL_CODES = [\\n        (86, 'China'),\\n        (91, 'India'),\\n        (1, 'United States'),\\n        (62, 'Indonesia'),\\n        (55, 'Brazil'),\\n        (92, 'Pakistan'),\\n        (880, 'Bangladesh'),\\n        (234, 'Nigeria'),\\n        (7, 'Russia'),\\n        (81, 'Japan'),\\n]\", 'DIAL_CODES': [(86, 'China'), (91, 'India'), (1, 'United States'), (62, 'Indonesia'), (55, 'Brazil'), (92, 'Pakistan'), (880, 'Bangladesh'), (234, 'Nigeria'), (7, 'Russia'), (81, 'Japan')], '_i31': 'country_code = {country: code for code, country in DIAL_CODES}\\ncountry_code', 'country_code': {1: 'UNITED STATES', 62: 'INDONESIA', 55: 'BRAZIL', 7: 'RUSSIA', 22: 'E', 23: {'H': 3, 'e': 3}}, '_31': {'China': 86, 'India': 91, 'United States': 1, 'Indonesia': 62, 'Brazil': 55, 'Pakistan': 92, 'Bangladesh': 880, 'Nigeria': 234, 'Russia': 7, 'Japan': 81}, '_i32': 'country_code = {code:country.upper() for code, country in DIAL_CODES if code <= 66}\\ncountry_code', '_32': {1: 'UNITED STATES', 62: 'INDONESIA', 55: 'BRAZIL', 7: 'RUSSIA', 22: 'E', 23: {'H': 3, 'e': 3}}, '_i33': 'from collections import defaultdict\\n\\n# 统计字符出现的次数\\ntext = \"hello world\"\\n# char_count = defaultdict(int)\\nchar_count = defaultdict(lambda: -1)    # 设置默认值\\nfor char in text:\\n    char_count[char] += 1\\nprint(char_count)', 'defaultdict': <class 'collections.defaultdict'>, 'text': 'hello world', 'char_count': defaultdict(<function <lambda> at 0x000001F9AC959A80>, {'h': 0, 'e': 0, 'l': 2, 'o': 1, ' ': 0, 'w': 0, 'r': 0, 'd': 0, 's': -1}), 'char': 'd', '_i34': \"char_count['s']\", '_34': -1, '_i35': \"from collections import OrderedDict\\n\\n# 创建一个 OrderedDict\\nordered_dict = OrderedDict()\\n\\n# 添加键值对\\nordered_dict['a'] = 1\\nordered_dict['b'] = 2\\nordered_dict['c'] = 3\\n\\n# 访问值\\nprint(ordered_dict['a'])  # 输出：1\\n\\n# 迭代\\nfor key, value in ordered_dict.items():\\n    print(key, value)\", 'OrderedDict': <class 'collections.OrderedDict'>, 'ordered_dict': OrderedDict([('a', 1), ('b', 2), ('c', 3)]), 'key': 'c', 'value': 3, '_i36': 'country_code.setdefault(22, \"E\")\\ncountry_code', '_36': {1: 'UNITED STATES', 62: 'INDONESIA', 55: 'BRAZIL', 7: 'RUSSIA', 22: 'E', 23: {'H': 3, 'e': 3}}, '_i37': \"country_code.setdefault(23, {})['H'] = 3\\ncountry_code\", '_37': {1: 'UNITED STATES', 62: 'INDONESIA', 55: 'BRAZIL', 7: 'RUSSIA', 22: 'E', 23: {'H': 3, 'e': 3}}, '_i38': \"# 使用 if 方式进行键查询并更新\\nif 23 not in country_code:\\n    country_code[23] = {}\\ncountry_code[23]['e']  = 3\\ncountry_code\", '_38': {1: 'UNITED STATES', 62: 'INDONESIA', 55: 'BRAZIL', 7: 'RUSSIA', 22: 'E', 23: {'H': 3, 'e': 3}}, '_i39': 'class StrKeyDict0(dict): \\n    def __missing__(self, key):\\n        if isinstance(key, str):  \\n            raise KeyError(key)\\n        return self[str(key)]  \\n    def get(self, key, default=None):\\n        try:\\n            return self[key]\\n        except KeyError:\\n            return default\\n        \\n    def __contains__(self, key):\\n        # return key in self or str(key) in self  # 使用更Python的写法, 会导致递归调用 __contains__ \\n        return key in self.keys() or str(key) in self.keys()  ', 'StrKeyDict0': <class '__main__.StrKeyDict0'>, '_i40': \"d = StrKeyDict0([('2', 'two' ), ('4', 'four')])\\nd['2'], d['4']\", 'd': {'2': 'two', '4': 'four'}, '_40': ('two', 'four'), '_i41': '# missing 方法将数字2 转为了字符串\\nd[2]', '_41': 'two', '_i42': 'd[1]    # 对于不存在情况抛出异常', '_i43': '2 in d', '_43': True, '_i44': 'import builtins\\nfrom collections import ChainMap\\n\\npylookup = ChainMap(locals(), globals(), vars(builtins))\\npylookup', 'builtins': <module 'builtins' (built-in)>, 'ChainMap': <class 'collections.ChainMap'>, 'pylookup': ...}, {'__name__': 'builtins', '__doc__': \"Built-in functions, types, exceptions, and other objects.\\n\\nThis module provides direct access to all 'built-in'\\nidentifiers of Python; for example, builtins.len is\\nthe full name for the built-in function len().\\n\\nThis module is not normally accessed explicitly by most\\napplications, but can be useful in modules that provide\\nobjects with the same name as a built-in value, but in\\nwhich the built-in of that name is also needed.\", '__package__': '', '__loader__': <class '_frozen_importlib.BuiltinImporter'>, '__spec__': ModuleSpec(name='builtins', loader=<class '_frozen_importlib.BuiltinImporter'>, origin='built-in'), '__build_class__': <built-in function __build_class__>, '__import__': <built-in function __import__>, 'abs': <built-in function abs>, 'all': <built-in function all>, 'any': <built-in function any>, 'ascii': <built-in function ascii>, 'bin': <built-in function bin>, 'breakpoint': <built-in function breakpoint>, 'callable': <built-in function callable>, 'chr': <built-in function chr>, 'compile': <built-in function compile>, 'delattr': <built-in function delattr>, 'dir': <built-in function dir>, 'divmod': <built-in function divmod>, 'eval': <built-in function eval>, 'exec': <built-in function exec>, 'format': <built-in function format>, 'getattr': <built-in function getattr>, 'globals': <built-in function globals>, 'hasattr': <built-in function hasattr>, 'hash': <built-in function hash>, 'hex': <built-in function hex>, 'id': <built-in function id>, 'input': <bound method Kernel.raw_input of <ipykernel.ipkernel.IPythonKernel object at 0x000001F9AB0CC890>>, 'isinstance': <built-in function isinstance>, 'issubclass': <built-in function issubclass>, 'iter': <built-in function iter>, 'aiter': <built-in function aiter>, 'len': <built-in function len>, 'locals': <built-in function locals>, 'max': <built-in function max>, 'min': <built-in function min>, 'next': <built-in function next>, 'anext': <built-in function anext>, 'oct': <built-in function oct>, 'ord': <built-in function ord>, 'pow': <built-in function pow>, 'print': <built-in function print>, 'repr': <built-in function repr>, 'round': <built-in function round>, 'setattr': <built-in function setattr>, 'sorted': <built-in function sorted>, 'sum': <built-in function sum>, 'vars': <built-in function vars>, 'None': None, 'Ellipsis': Ellipsis, 'NotImplemented': NotImplemented, 'False': False, 'True': True, 'bool': <class 'bool'>, 'memoryview': <class 'memoryview'>, 'bytearray': <class 'bytearray'>, 'bytes': <class 'bytes'>, 'classmethod': <class 'classmethod'>, 'complex': <class 'complex'>, 'dict': <class 'dict'>, 'enumerate': <class 'enumerate'>, 'filter': <class 'filter'>, 'float': <class 'float'>, 'frozenset': <class 'frozenset'>, 'property': <class 'property'>, 'int': <class 'int'>, 'list': <class 'list'>, 'map': <class 'map'>, 'object': <class 'object'>, 'range': <class 'range'>, 'reversed': <class 'reversed'>, 'set': <class 'set'>, 'slice': <class 'slice'>, 'staticmethod': <class 'staticmethod'>, 'str': <class 'str'>, 'super': <class 'super'>, 'tuple': <class 'tuple'>, 'type': <class 'type'>, 'zip': <class 'zip'>, '__debug__': True, 'BaseException': <class 'BaseException'>, 'BaseExceptionGroup': <class 'BaseExceptionGroup'>, 'Exception': <class 'Exception'>, 'GeneratorExit': <class 'GeneratorExit'>, 'KeyboardInterrupt': <class 'KeyboardInterrupt'>, 'SystemExit': <class 'SystemExit'>, 'ArithmeticError': <class 'ArithmeticError'>, 'AssertionError': <class 'AssertionError'>, 'AttributeError': <class 'AttributeError'>, 'BufferError': <class 'BufferError'>, 'EOFError': <class 'EOFError'>, 'ImportError': <class 'ImportError'>, 'LookupError': <class 'LookupError'>, 'MemoryError': <class 'MemoryError'>, 'NameError': <class 'NameError'>, 'OSError': <class 'OSError'>, 'ReferenceError': <class 'ReferenceError'>, 'RuntimeError': <class 'RuntimeError'>, 'StopAsyncIteration': <class 'StopAsyncIteration'>, 'StopIteration': <class 'StopIteration'>, 'SyntaxError': <class 'SyntaxError'>, 'SystemError': <class 'SystemError'>, 'TypeError': <class 'TypeError'>, 'ValueError': <class 'ValueError'>, 'Warning': <class 'Warning'>, 'FloatingPointError': <class 'FloatingPointError'>, 'OverflowError': <class 'OverflowError'>, 'ZeroDivisionError': <class 'ZeroDivisionError'>, 'BytesWarning': <class 'BytesWarning'>, 'DeprecationWarning': <class 'DeprecationWarning'>, 'EncodingWarning': <class 'EncodingWarning'>, 'FutureWarning': <class 'FutureWarning'>, 'ImportWarning': <class 'ImportWarning'>, 'PendingDeprecationWarning': <class 'PendingDeprecationWarning'>, 'ResourceWarning': <class 'ResourceWarning'>, 'RuntimeWarning': <class 'RuntimeWarning'>, 'SyntaxWarning': <class 'SyntaxWarning'>, 'UnicodeWarning': <class 'UnicodeWarning'>, 'UserWarning': <class 'UserWarning'>, 'BlockingIOError': <class 'BlockingIOError'>, 'ChildProcessError': <class 'ChildProcessError'>, 'ConnectionError': <class 'ConnectionError'>, 'FileExistsError': <class 'FileExistsError'>, 'FileNotFoundError': <class 'FileNotFoundError'>, 'InterruptedError': <class 'InterruptedError'>, 'IsADirectoryError': <class 'IsADirectoryError'>, 'NotADirectoryError': <class 'NotADirectoryError'>, 'PermissionError': <class 'PermissionError'>, 'ProcessLookupError': <class 'ProcessLookupError'>, 'TimeoutError': <class 'TimeoutError'>, 'IndentationError': <class 'IndentationError'>, 'IndexError': <class 'IndexError'>, 'KeyError': <class 'KeyError'>, 'ModuleNotFoundError': <class 'ModuleNotFoundError'>, 'NotImplementedError': <class 'NotImplementedError'>, 'RecursionError': <class 'RecursionError'>, 'UnboundLocalError': <class 'UnboundLocalError'>, 'UnicodeError': <class 'UnicodeError'>, 'BrokenPipeError': <class 'BrokenPipeError'>, 'ConnectionAbortedError': <class 'ConnectionAbortedError'>, 'ConnectionRefusedError': <class 'ConnectionRefusedError'>, 'ConnectionResetError': <class 'ConnectionResetError'>, 'TabError': <class 'TabError'>, 'UnicodeDecodeError': <class 'UnicodeDecodeError'>, 'UnicodeEncodeError': <class 'UnicodeEncodeError'>, 'UnicodeTranslateError': <class 'UnicodeTranslateError'>, 'ExceptionGroup': <class 'ExceptionGroup'>, 'EnvironmentError': <class 'OSError'>, 'IOError': <class 'OSError'>, 'WindowsError': <class 'OSError'>, 'open': <built-in function open>, 'copyright': Copyright (c) 2001-2023 Python Software Foundation.\n",
       "All Rights Reserved.\n",
       "\n",
       "Copyright (c) 2000 BeOpen.com.\n",
       "All Rights Reserved.\n",
       "\n",
       "Copyright (c) 1995-2001 Corporation for National Research Initiatives.\n",
       "All Rights Reserved.\n",
       "\n",
       "Copyright (c) 1991-1995 Stichting Mathematisch Centrum, Amsterdam.\n",
       "All Rights Reserved., 'credits':     Thanks to CWI, CNRI, BeOpen.com, Zope Corporation and a cast of thousands\n",
       "    for supporting Python development.  See www.python.org for more information., 'license': See https://www.python.org/psf/license/, 'help': Type help() for interactive help, or help(object) for help about object., 'execfile': <function execfile at 0x000001F9AB18AFC0>, 'runfile': <function runfile at 0x000001F9AC2C37E0>, '__IPYTHON__': True, 'display': <function display at 0x000001F9A9C6FCE0>, 'get_ipython': <bound method InteractiveShell.get_ipython of <ipykernel.zmqshell.ZMQInteractiveShell object at 0x000001F9AC551A10>>})"
      ]
     },
     "execution_count": 44,
     "metadata": {},
     "output_type": "execute_result"
    }
   ],
   "source": [
    "import builtins\n",
    "from collections import ChainMap\n",
    "\n",
    "pylookup = ChainMap(locals(), globals(), vars(builtins))\n",
    "pylookup"
   ]
  },
  {
   "cell_type": "markdown",
   "metadata": {},
   "source": [
    "### collections.Counter"
   ]
  },
  {
   "cell_type": "markdown",
   "metadata": {},
   "source": [
    "&emsp; 利用Counter 来计算单词中各个字母出现的次数"
   ]
  },
  {
   "cell_type": "code",
   "execution_count": 45,
   "metadata": {},
   "outputs": [
    {
     "data": {
      "text/plain": [
       "Counter({'a': 6, 'b': 4, 'r': 2, 'n': 1, 'd': 1})"
      ]
     },
     "execution_count": 45,
     "metadata": {},
     "output_type": "execute_result"
    }
   ],
   "source": [
    "from collections import Counter\n",
    "ct = Counter('abababarrandab')\n",
    "ct"
   ]
  },
  {
   "cell_type": "markdown",
   "metadata": {},
   "source": [
    "### collections.UserDict"
   ]
  },
  {
   "cell_type": "markdown",
   "metadata": {},
   "source": [
    "这个类实际是把标准的dict用Python重新实现了一遍。UserDict 是让用户继承写子类的"
   ]
  },
  {
   "cell_type": "markdown",
   "metadata": {},
   "source": [
    "## 3.6 子类化UserDict"
   ]
  },
  {
   "cell_type": "markdown",
   "metadata": {},
   "source": [
    "&emsp; 就创造自定义映射类型而言, 以UserDict为基类, 总比以普通的dict为基类要来的方便"
   ]
  },
  {
   "cell_type": "code",
   "execution_count": 46,
   "metadata": {},
   "outputs": [],
   "source": [
    "from collections import UserDict\n",
    "\n",
    "class StrKeyDict(UserDict):\n",
    "    \n",
    "    def __missing__(self, key):\n",
    "        if isinstance(key, str):\n",
    "            raise KeyError(key)\n",
    "        return self[str(key)]\n",
    "    \n",
    "    def __contains__(self, key):\n",
    "        return str(key) in self.data\n",
    "    \n",
    "    def __setitem__(self, key, item):\n",
    "        self.data[str(key)] = item"
   ]
  },
  {
   "cell_type": "code",
   "execution_count": 47,
   "metadata": {},
   "outputs": [
    {
     "data": {
      "text/plain": [
       "({'name': 'Rookie', 'age': 25, '1': [0, 1, 2]}, [0, 1, 2])"
      ]
     },
     "execution_count": 47,
     "metadata": {},
     "output_type": "execute_result"
    }
   ],
   "source": [
    "sk = StrKeyDict(name=\"Rookie\", age=25)\n",
    "sk[1] = [0, 1, 2]   # __setitem__方法将数字键转为字符键\n",
    "sk, sk[1]"
   ]
  },
  {
   "cell_type": "code",
   "execution_count": 48,
   "metadata": {},
   "outputs": [
    {
     "data": {
      "text/plain": [
       "'Rookie'"
      ]
     },
     "execution_count": 48,
     "metadata": {},
     "output_type": "execute_result"
    }
   ],
   "source": [
    "sk.get('name', \"lambda\")    # Mapping 类中实现的get方法和StrKeyDict0 中一致, 而UserDict的get方法继承自Mapping"
   ]
  },
  {
   "cell_type": "markdown",
   "metadata": {},
   "source": [
    "## 3.7 不可变映射类型 "
   ]
  },
  {
   "cell_type": "code",
   "execution_count": 49,
   "metadata": {},
   "outputs": [
    {
     "data": {
      "text/plain": [
       "mappingproxy({1: ['A', 'N']})"
      ]
     },
     "execution_count": 49,
     "metadata": {},
     "output_type": "execute_result"
    }
   ],
   "source": [
    "from types import MappingProxyType\n",
    "d = {1:['A', 'N']}\n",
    "d_proxy = MappingProxyType(d)\n",
    "d_proxy"
   ]
  },
  {
   "cell_type": "code",
   "execution_count": 50,
   "metadata": {},
   "outputs": [
    {
     "data": {
      "text/plain": [
       "['A', 'N']"
      ]
     },
     "execution_count": 50,
     "metadata": {},
     "output_type": "execute_result"
    }
   ],
   "source": [
    "d_proxy[1]"
   ]
  },
  {
   "cell_type": "code",
   "execution_count": 51,
   "metadata": {},
   "outputs": [
    {
     "ename": "TypeError",
     "evalue": "'mappingproxy' object does not support item assignment",
     "output_type": "error",
     "traceback": [
      "\u001b[1;31m---------------------------------------------------------------------------\u001b[0m",
      "\u001b[1;31mTypeError\u001b[0m                                 Traceback (most recent call last)",
      "Cell \u001b[1;32mIn[51], line 1\u001b[0m\n\u001b[1;32m----> 1\u001b[0m \u001b[43md_proxy\u001b[49m\u001b[43m[\u001b[49m\u001b[38;5;241;43m2\u001b[39;49m\u001b[43m]\u001b[49m \u001b[38;5;241m=\u001b[39m \u001b[38;5;241m12\u001b[39m\n",
      "\u001b[1;31mTypeError\u001b[0m: 'mappingproxy' object does not support item assignment"
     ]
    }
   ],
   "source": [
    "d_proxy[2] = 12"
   ]
  },
  {
   "cell_type": "code",
   "execution_count": 52,
   "metadata": {},
   "outputs": [
    {
     "data": {
      "text/plain": [
       "mappingproxy({1: ['A', 'N', 'D']})"
      ]
     },
     "execution_count": 52,
     "metadata": {},
     "output_type": "execute_result"
    }
   ],
   "source": [
    "d_proxy[1].append('D')\n",
    "d_proxy"
   ]
  },
  {
   "cell_type": "markdown",
   "metadata": {},
   "source": [
    "## 3.8 集合论"
   ]
  },
  {
   "cell_type": "code",
   "execution_count": 53,
   "metadata": {},
   "outputs": [
    {
     "data": {
      "text/plain": [
       "({-1, 0, 2}, {0, 1, 2, 4})"
      ]
     },
     "execution_count": 53,
     "metadata": {},
     "output_type": "execute_result"
    }
   ],
   "source": [
    "l = [2, 4, 4, 2, 0, 1, 0]\n",
    "set1 = {2, 0, -1}\n",
    "set2 = set(l)\n",
    "set1, set2"
   ]
  },
  {
   "cell_type": "code",
   "execution_count": 54,
   "metadata": {},
   "outputs": [
    {
     "data": {
      "text/plain": [
       "({0, 2}, {-1, 0, 1, 2, 4})"
      ]
     },
     "execution_count": 54,
     "metadata": {},
     "output_type": "execute_result"
    }
   ],
   "source": [
    "set1 & set2, set1 | set2"
   ]
  },
  {
   "cell_type": "markdown",
   "metadata": {},
   "source": [
    "### 3.8.1 集合字面量 "
   ]
  },
  {
   "cell_type": "markdown",
   "metadata": {},
   "source": [
    "* 句法的陷阱:\n",
    "    * 如果要创建一个空集, 你必须用不带任何参数的构造方法set(). 如果只是写成{}的形式, 跟以前一样, 你实际创建的是一个空字典"
   ]
  },
  {
   "cell_type": "code",
   "execution_count": 55,
   "metadata": {},
   "outputs": [
    {
     "data": {
      "text/plain": [
       "(set, dict)"
      ]
     },
     "execution_count": 55,
     "metadata": {},
     "output_type": "execute_result"
    }
   ],
   "source": [
    "s1 = set()\n",
    "s2 = {}\n",
    "type(s1), type(s2)"
   ]
  },
  {
   "cell_type": "code",
   "execution_count": 56,
   "metadata": {},
   "outputs": [
    {
     "data": {
      "text/plain": [
       "frozenset({0, 1, 2, 3, 4, 5, 6, 7, 8, 9})"
      ]
     },
     "execution_count": 56,
     "metadata": {},
     "output_type": "execute_result"
    }
   ],
   "source": [
    "frozenset(range(10))"
   ]
  },
  {
   "cell_type": "markdown",
   "metadata": {},
   "source": [
    "### 3.8.2 集合推导"
   ]
  },
  {
   "cell_type": "code",
   "execution_count": 57,
   "metadata": {},
   "outputs": [
    {
     "data": {
      "text/plain": [
       "{'#',\n",
       " '$',\n",
       " '%',\n",
       " '+',\n",
       " '<',\n",
       " '=',\n",
       " '>',\n",
       " '¢',\n",
       " '£',\n",
       " '¤',\n",
       " '¥',\n",
       " '§',\n",
       " '©',\n",
       " '¬',\n",
       " '®',\n",
       " '°',\n",
       " '±',\n",
       " 'µ',\n",
       " '¶',\n",
       " '×',\n",
       " '÷'}"
      ]
     },
     "execution_count": 57,
     "metadata": {},
     "output_type": "execute_result"
    }
   ],
   "source": [
    "from unicodedata import name\n",
    "{chr(i) for i in range(32, 256) if \"SIGN\" in name(chr(i), '')}"
   ]
  },
  {
   "cell_type": "markdown",
   "metadata": {},
   "source": [
    "### 集合的操作 "
   ]
  },
  {
   "cell_type": "code",
   "execution_count": 58,
   "metadata": {},
   "outputs": [
    {
     "data": {
      "text/plain": [
       "({0, 10}, {3}, {0, 3, 10})"
      ]
     },
     "execution_count": 58,
     "metadata": {},
     "output_type": "execute_result"
    }
   ],
   "source": [
    "s1 = {12, 3, 4,  2}\n",
    "s2 = {0, 12, 2, 4, 10}\n",
    "s2 - s1, s1 - s2, s1^s2"
   ]
  },
  {
   "cell_type": "code",
   "execution_count": 59,
   "metadata": {},
   "outputs": [
    {
     "data": {
      "text/plain": [
       "(True, True, False)"
      ]
     },
     "execution_count": 59,
     "metadata": {},
     "output_type": "execute_result"
    }
   ],
   "source": [
    "s1 = {1, 2}\n",
    "s2 = {x for x in range(20)}\n",
    "s2 <= s2, s1 < s2, s1 > s2 "
   ]
  },
  {
   "cell_type": "markdown",
   "metadata": {},
   "source": [
    "## 3.9 dict 和 set 的背后"
   ]
  },
  {
   "cell_type": "markdown",
   "metadata": {},
   "source": [
    "### dict的实现及其导致的结果"
   ]
  },
  {
   "cell_type": "markdown",
   "metadata": {},
   "source": [
    "* 01. 键必须是可散列的\n",
    "* 02. 字典的内存开销巨大\n",
    "* 03. 键的查询很快\n",
    "* 04. 键的次序取决于添加的顺序\n",
    "* 05. 往字典里添加新键可能会改变已有键的顺序\n"
   ]
  },
  {
   "cell_type": "markdown",
   "metadata": {},
   "source": [
    "### set的实现及其导致的结果"
   ]
  },
  {
   "cell_type": "markdown",
   "metadata": {},
   "source": [
    "* 和dict类似"
   ]
  },
  {
   "cell_type": "markdown",
   "metadata": {},
   "source": [
    "## 3.10 本章小结"
   ]
  },
  {
   "cell_type": "markdown",
   "metadata": {},
   "source": [
    "<img src=\"./images/第三章总结.jpg\" width=\"70%\">"
   ]
  }
 ],
 "metadata": {
  "kernelspec": {
   "display_name": "ai",
   "language": "python",
   "name": "python3"
  },
  "language_info": {
   "codemirror_mode": {
    "name": "ipython",
    "version": 3
   },
   "file_extension": ".py",
   "mimetype": "text/x-python",
   "name": "python",
   "nbconvert_exporter": "python",
   "pygments_lexer": "ipython3",
   "version": "3.11.9"
  }
 },
 "nbformat": 4,
 "nbformat_minor": 2
}
