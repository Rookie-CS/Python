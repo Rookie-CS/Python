{
 "cells": [
  {
   "cell_type": "markdown",
   "metadata": {},
   "source": [
    "# 第11章 接口: 从协议到抽象基类"
   ]
  },
  {
   "cell_type": "markdown",
   "metadata": {},
   "source": [
    "## 11.1 Python文化中的接口和协议"
   ]
  },
  {
   "cell_type": "markdown",
   "metadata": {},
   "source": [
    "示例 11-2 使用特性实现x和y"
   ]
  },
  {
   "cell_type": "code",
   "execution_count": 1,
   "metadata": {},
   "outputs": [],
   "source": [
    "class Vector2d:\n",
    "\n",
    "    def __init__(self, x, y) -> None:\n",
    "        self.__x = x\n",
    "        self.__y = y\n",
    "    \n",
    "    @property\n",
    "    def x(self):\n",
    "        return self.__x\n",
    "    \n",
    "    @property\n",
    "    def y(self):\n",
    "        return self.__y\n",
    "    \n",
    "    def __iter__(self):\n",
    "        return (i for i in (self.x, self.y))"
   ]
  },
  {
   "cell_type": "code",
   "execution_count": 4,
   "metadata": {},
   "outputs": [
    {
     "data": {
      "text/plain": [
       "(2, 3, [2, 3])"
      ]
     },
     "execution_count": 4,
     "metadata": {},
     "output_type": "execute_result"
    }
   ],
   "source": [
    "v = Vector2d(2, 3)\n",
    "v.x, v.y,  [x for x in v]"
   ]
  },
  {
   "cell_type": "markdown",
   "metadata": {},
   "source": [
    "## 11.2 Python喜欢序列"
   ]
  },
  {
   "cell_type": "markdown",
   "metadata": {},
   "source": [
    "Python会特殊对待看起来像是序列的对象。Python 中的迭代是鸭子类型的一种极端形式： 为了迭代对象, 解释器会尝试调用两种不同的方法"
   ]
  },
  {
   "cell_type": "markdown",
   "metadata": {},
   "source": [
    "## 11.3 使用猴子补丁在运行时实现协议"
   ]
  },
  {
   "cell_type": "code",
   "execution_count": 2,
   "metadata": {},
   "outputs": [
    {
     "data": {
      "text/plain": [
       "[6, 0, 1, 2, 8, 7, 5, 4, 3, 9]"
      ]
     },
     "execution_count": 2,
     "metadata": {},
     "output_type": "execute_result"
    }
   ],
   "source": [
    "from random import shuffle\n",
    "l = list(range(10))\n",
    "shuffle(l)\n",
    "l"
   ]
  },
  {
   "cell_type": "markdown",
   "metadata": {},
   "source": [
    "示例 11-6 为FrenchDeck打猴子补丁, 把它变成可变的, 让random.shuffle 函数可以处理"
   ]
  },
  {
   "cell_type": "code",
   "execution_count": 17,
   "metadata": {},
   "outputs": [
    {
     "data": {
      "text/plain": [
       "[Card(rank='2', suit='spades'),\n",
       " Card(rank='Q', suit='hearts'),\n",
       " Card(rank='9', suit='hearts'),\n",
       " Card(rank='9', suit='clubs'),\n",
       " Card(rank='K', suit='hearts')]"
      ]
     },
     "execution_count": 17,
     "metadata": {},
     "output_type": "execute_result"
    }
   ],
   "source": [
    "import types\n",
    "import collections\n",
    "\n",
    "# 命名元组: 和C中的结构体很相似\n",
    "Card = collections.namedtuple('Card', ['rank', 'suit'])\n",
    "\n",
    "class FrenchDeck:\n",
    "    ranks = [str(n) for n in range(2, 11)] + list('JQKA')\n",
    "    suits = 'spades diamonds clubs hearts'.split()\n",
    "\n",
    "    def __init__(self):\n",
    "        self._cards = [Card(rank, suit) for suit in self.suits\n",
    "                                        for rank in self.ranks]\n",
    "\n",
    "    def __len__(self):\n",
    "        return len(self._cards)\n",
    "\n",
    "    def __getitem__(self, position):\n",
    "        return self._cards[position]\n",
    "\n",
    "def set_card(deck, pos, card):\n",
    "    \"\"\"设置\"\"\"\n",
    "    deck._cards[pos] = card\n",
    "\n",
    "class FrenchDeck2(FrenchDeck): ...\n",
    "deck = FrenchDeck2()\n",
    "deck.__class__.__setitem__ = set_card\n",
    "shuffle(deck)\n",
    "deck[:5]"
   ]
  },
  {
   "cell_type": "markdown",
   "metadata": {},
   "source": [
    "<mark />鸭子类型: 对象的类型无关紧要, 只要实现了特定的协议即可</mark>"
   ]
  },
  {
   "cell_type": "markdown",
   "metadata": {},
   "source": [
    "## 11.4 Alex martelli 的水禽"
   ]
  },
  {
   "cell_type": "code",
   "execution_count": 20,
   "metadata": {},
   "outputs": [
    {
     "data": {
      "text/plain": [
       "[True, False]"
      ]
     },
     "execution_count": 20,
     "metadata": {},
     "output_type": "execute_result"
    }
   ],
   "source": [
    "class Struggle:\n",
    "    def __len__(self): return 23\n",
    "class Struggle2: ...\n",
    "from collections import abc\n",
    "[isinstance(cls(), abc.Sized) for cls in (Struggle, Struggle2)]"
   ]
  },
  {
   "cell_type": "markdown",
   "metadata": {},
   "source": [
    "## 11.5 定义抽象基类的子类"
   ]
  },
  {
   "cell_type": "code",
   "execution_count": 25,
   "metadata": {},
   "outputs": [],
   "source": [
    "import collections\n",
    "import collections.abc\n",
    "\n",
    "Card = collections.namedtuple('Card', ['rank', 'suit'])\n",
    "\n",
    "class FrenchDeck2(collections.abc.MutableSequence):\n",
    "    ranks = [str(n) for n in range(2, 11)] + list(\"JQKA\")\n",
    "    suits = 'spades diamonds clubs hearts'.split()\n",
    "\n",
    "    def __init__(self) -> None:\n",
    "        self._cards = [Card(rank, suit) for suit in self.suits for rank in self.ranks]\n",
    "    \n",
    "    def __len__(self):\n",
    "        return len(self._cards)\n",
    "    \n",
    "    def __getitem__(self, pos):\n",
    "        return self._cards[pos]\n",
    "    \n",
    "    def __setitem__(self, pos, val):\n",
    "        self._cards[pos] = val\n",
    "    \n",
    "    def __delitem__(self, pos):\n",
    "        del self._cards[pos]\n",
    "    \n",
    "    def insert(self, index: int, value):\n",
    "        self._cards.insert(index, value)"
   ]
  },
  {
   "cell_type": "code",
   "execution_count": 26,
   "metadata": {},
   "outputs": [],
   "source": [
    "deck = FrenchDeck2()"
   ]
  },
  {
   "cell_type": "markdown",
   "metadata": {},
   "source": [
    "## 11.6 标准库中的抽象基类"
   ]
  },
  {
   "cell_type": "markdown",
   "metadata": {},
   "source": [
    "### 11.6.1 collections.abc模块中的抽象基类"
   ]
  },
  {
   "cell_type": "code",
   "execution_count": 27,
   "metadata": {},
   "outputs": [],
   "source": [
    "import collections"
   ]
  },
  {
   "cell_type": "code",
   "execution_count": 38,
   "metadata": {},
   "outputs": [
    {
     "data": {
      "text/plain": [
       "[['AsyncGenerator', 'AsyncIterable', 'AsyncIterator', 'Awaitable'],\n",
       " ['ByteString', 'Callable', 'Collection', 'Container'],\n",
       " ['Coroutine', 'Generator', 'Hashable', 'ItemsView'],\n",
       " ['Iterable', 'Iterator', 'KeysView', 'Mapping'],\n",
       " ['MappingView', 'MutableMapping', 'MutableSequence', 'MutableSet'],\n",
       " ['Reversible', 'Sequence', 'Set', 'Sized'],\n",
       " ['ValuesView']]"
      ]
     },
     "execution_count": 38,
     "metadata": {},
     "output_type": "execute_result"
    }
   ],
   "source": [
    "abc_base_cls = sorted([ _ for _ in collections.abc.__dir__() if '_' not in _ ])\n",
    "[abc_base_cls[i:i+4] for i in range(0, len(abc_base_cls), 4)]"
   ]
  },
  {
   "cell_type": "markdown",
   "metadata": {},
   "source": [
    "### 11.6.2 抽象基类的数字塔"
   ]
  },
  {
   "cell_type": "code",
   "execution_count": 87,
   "metadata": {},
   "outputs": [
    {
     "name": "stdout",
     "output_type": "stream",
     "text": [
      "+-----------+------------------+-------------------+--------------------+----------------+--------------------+\n",
      "|   Type    |  numbers.Number  |  numbers.Complex  |  numbers.Integral  |  numbers.Real  |  numbers.Rational  |\n",
      "+===========+==================+===================+====================+================+====================+\n",
      "|    \u001b[94mint\u001b[0m    |        \u001b[92m✓\u001b[0m         |         \u001b[92m✓\u001b[0m         |         \u001b[92m✓\u001b[0m          |       \u001b[92m✓\u001b[0m        |         \u001b[92m✓\u001b[0m          |\n",
      "+-----------+------------------+-------------------+--------------------+----------------+--------------------+\n",
      "|   \u001b[94mfloat\u001b[0m   |        \u001b[92m✓\u001b[0m         |         \u001b[92m✓\u001b[0m         |         \u001b[91m×\u001b[0m          |       \u001b[92m✓\u001b[0m        |         \u001b[91m×\u001b[0m          |\n",
      "+-----------+------------------+-------------------+--------------------+----------------+--------------------+\n",
      "|  \u001b[94mcomplex\u001b[0m  |        \u001b[92m✓\u001b[0m         |         \u001b[92m✓\u001b[0m         |         \u001b[91m×\u001b[0m          |       \u001b[91m×\u001b[0m        |         \u001b[91m×\u001b[0m          |\n",
      "+-----------+------------------+-------------------+--------------------+----------------+--------------------+\n",
      "|   \u001b[94mbool\u001b[0m    |        \u001b[92m✓\u001b[0m         |         \u001b[92m✓\u001b[0m         |         \u001b[92m✓\u001b[0m          |       \u001b[92m✓\u001b[0m        |         \u001b[92m✓\u001b[0m          |\n",
      "+-----------+------------------+-------------------+--------------------+----------------+--------------------+\n",
      "|    \u001b[94mstr\u001b[0m    |        \u001b[91m×\u001b[0m         |         \u001b[91m×\u001b[0m         |         \u001b[91m×\u001b[0m          |       \u001b[91m×\u001b[0m        |         \u001b[91m×\u001b[0m          |\n",
      "+-----------+------------------+-------------------+--------------------+----------------+--------------------+\n",
      "|   \u001b[94mint64\u001b[0m   |        \u001b[92m✓\u001b[0m         |         \u001b[92m✓\u001b[0m         |         \u001b[92m✓\u001b[0m          |       \u001b[92m✓\u001b[0m        |         \u001b[92m✓\u001b[0m          |\n",
      "+-----------+------------------+-------------------+--------------------+----------------+--------------------+\n",
      "|  \u001b[94mfloat32\u001b[0m  |        \u001b[92m✓\u001b[0m         |         \u001b[92m✓\u001b[0m         |         \u001b[91m×\u001b[0m          |       \u001b[92m✓\u001b[0m        |         \u001b[91m×\u001b[0m          |\n",
      "+-----------+------------------+-------------------+--------------------+----------------+--------------------+\n",
      "| \u001b[94mcomplex64\u001b[0m |        \u001b[92m✓\u001b[0m         |         \u001b[92m✓\u001b[0m         |         \u001b[91m×\u001b[0m          |       \u001b[91m×\u001b[0m        |         \u001b[91m×\u001b[0m          |\n",
      "+-----------+------------------+-------------------+--------------------+----------------+--------------------+\n",
      "|  \u001b[94muint64\u001b[0m   |        \u001b[92m✓\u001b[0m         |         \u001b[92m✓\u001b[0m         |         \u001b[92m✓\u001b[0m          |       \u001b[92m✓\u001b[0m        |         \u001b[92m✓\u001b[0m          |\n",
      "+-----------+------------------+-------------------+--------------------+----------------+--------------------+\n"
     ]
    }
   ],
   "source": [
    "import numbers\n",
    "import numpy as np\n",
    "from tabulate import tabulate\n",
    "\n",
    "COLORS = {\n",
    "    'default': '\\033[0m',\n",
    "    'green': '\\033[92m',\n",
    "    'red': '\\033[91m',\n",
    "    'yellow': '\\033[93m',\n",
    "    'blue': '\\033[94m'\n",
    "}\n",
    "\n",
    "# 数据准备\n",
    "nums = [1, 1.0, complex(1, -1), True, \"1\", np.int64(0), np.float32(1.0), np.complex64(1), np.uint(12)]\n",
    "objtype = [numbers.Number, numbers.Complex, numbers.Integral, numbers.Real, numbers.Rational]\n",
    "headers = ['Type'] + [str(obj).split()[-1].split('>')[0].replace('\\'', '') for obj in objtype]\n",
    "\n",
    "# 创建数据行\n",
    "rows = []\n",
    "for num in nums:\n",
    "    type_name = f\"{type(num).__name__}\"\n",
    "    row = [COLORS['blue'] + type_name + COLORS['default']]\n",
    "    row += [f\"{COLORS['green']}✓{COLORS['default']}\" if isinstance(num, obj) else f\"{COLORS['red']}×{COLORS['default']}\" for obj in objtype]\n",
    "    rows.append(row)\n",
    "# 打印表格\n",
    "print(tabulate(rows, headers=headers, tablefmt='grid', stralign='center'))"
   ]
  },
  {
   "cell_type": "markdown",
   "metadata": {},
   "source": [
    "## 11.7 定义并使用一个抽象基类"
   ]
  },
  {
   "cell_type": "markdown",
   "metadata": {},
   "source": [
    "示例 11-9 Tombola是抽象基类, 有两个抽象方法和两个具体的方法"
   ]
  },
  {
   "cell_type": "code",
   "execution_count": 88,
   "metadata": {},
   "outputs": [],
   "source": [
    "import abc\n",
    "\n",
    "class Tombola(abc.ABC):\n",
    "\n",
    "    @abc.abstractmethod\n",
    "    def load(self, iterable):\n",
    "        \"\"\"从可迭代对象中添加元素\"\"\"\n",
    "    @abc.abstractmethod\n",
    "    def pick(self): \n",
    "        \"\"\"随机删除元素, 然后将其返回。如果实例为空, 这个方法应该抛出`LookupError`\"\"\"\n",
    "    def loaded(self):\n",
    "        \"\"\"如果至少有一个元素,返回`True`, 否则返回`False`。 \"\"\"\n",
    "        return bool(self.inspect())\n",
    "    def inspect(self):\n",
    "        \"\"\"返回一个有序数组,由当前元素构成\"\"\"\n",
    "        items = []\n",
    "        while True:\n",
    "            try:\n",
    "                items.append(self.pick())\n",
    "            except LookupError:\n",
    "                break\n",
    "        self.load(items)\n",
    "        \n",
    "        return tuple(sorted(items))"
   ]
  },
  {
   "cell_type": "code",
   "execution_count": 89,
   "metadata": {},
   "outputs": [],
   "source": [
    "import random\n",
    "\n",
    "class BingoCage(Tombola):\n",
    "\n",
    "    def __init__(self, items) -> None:\n",
    "        self._randomizer = random.SystemRandom()\n",
    "        self._items = []\n",
    "        self.load(items)\n",
    "    \n",
    "    def load(self, items):\n",
    "        self._items.extend(items)\n",
    "        self._randomizer.shuffle(self._items)\n",
    "    \n",
    "    def pick(self):\n",
    "        try:\n",
    "            return self._items.pop()\n",
    "        except IndexError:\n",
    "            raise LookupError('pick from empty BingoCage')\n",
    "    \n",
    "    def __call__(self):\n",
    "        self.pick()"
   ]
  },
  {
   "cell_type": "code",
   "execution_count": 90,
   "metadata": {},
   "outputs": [],
   "source": [
    "class LotteryBlower(Tombola):\n",
    "\n",
    "    def __init__(self, iterable) -> None:\n",
    "        self._balls = list(iterable)\n",
    "    \n",
    "    def load(self, iterable):\n",
    "        self._balls.extend(iterable)\n",
    "\n",
    "    def pick(self):\n",
    "        try:\n",
    "            pos = random.randrange(len(self._balls))\n",
    "        except ValueError:\n",
    "            raise LookupError('pick from empty LotteryBlower')\n",
    "        return self._balls.pop(pos)\n",
    "    \n",
    "    def loaded(self):\n",
    "        return bool(self._balls)\n",
    "\n",
    "    def inspect(self):\n",
    "        return tuple(sorted(self._balls))"
   ]
  },
  {
   "cell_type": "markdown",
   "metadata": {},
   "source": [
    "实例 11-14 TomboList 是 Tombola 的虚拟子类"
   ]
  },
  {
   "cell_type": "code",
   "execution_count": 93,
   "metadata": {},
   "outputs": [],
   "source": [
    "@Tombola.register\n",
    "class TomboList(list):\n",
    "\n",
    "    def pick(self):\n",
    "        if self:\n",
    "            pos = random.randrange(len(self))\n",
    "            return self.pop(pos)\n",
    "        else:\n",
    "            raise LookupError('pop from empty TomboList')\n",
    "    \n",
    "    load = list.extend\n",
    "\n",
    "    def loaded(self):\n",
    "        return bool(self)\n",
    "    \n",
    "    def inspect(self):\n",
    "        return tuple(sorted(self))"
   ]
  },
  {
   "cell_type": "code",
   "execution_count": 94,
   "metadata": {},
   "outputs": [
    {
     "data": {
      "text/plain": [
       "True"
      ]
     },
     "execution_count": 94,
     "metadata": {},
     "output_type": "execute_result"
    }
   ],
   "source": [
    "issubclass(TomboList, Tombola)"
   ]
  },
  {
   "cell_type": "code",
   "execution_count": 95,
   "metadata": {},
   "outputs": [
    {
     "data": {
      "text/plain": [
       "True"
      ]
     },
     "execution_count": 95,
     "metadata": {},
     "output_type": "execute_result"
    }
   ],
   "source": [
    "t = TomboList(range(100))\n",
    "isinstance(t, Tombola)"
   ]
  },
  {
   "cell_type": "code",
   "execution_count": 96,
   "metadata": {},
   "outputs": [
    {
     "data": {
      "text/plain": [
       "(__main__.TomboList, list, object)"
      ]
     },
     "execution_count": 96,
     "metadata": {},
     "output_type": "execute_result"
    }
   ],
   "source": [
    "TomboList.__mro__"
   ]
  },
  {
   "cell_type": "markdown",
   "metadata": {},
   "source": [
    "## 11.8 Tombola子类的测试方法"
   ]
  },
  {
   "cell_type": "markdown",
   "metadata": {},
   "source": [
    "## 11.9 Python使用register的方式"
   ]
  },
  {
   "cell_type": "code",
   "execution_count": 116,
   "metadata": {},
   "outputs": [
    {
     "data": {
      "text/plain": [
       "(True, False)"
      ]
     },
     "execution_count": 116,
     "metadata": {},
     "output_type": "execute_result"
    }
   ],
   "source": [
    "class A(abc.ABC):\n",
    "    pass\n",
    "\n",
    "class B:\n",
    "    pass\n",
    "\n",
    "class C:\n",
    "    pass\n",
    "\n",
    "A.register(B)\n",
    "issubclass(B, A), issubclass(C, A)"
   ]
  },
  {
   "cell_type": "markdown",
   "metadata": {},
   "source": [
    "## 11.10 鹅的行为有可能像鸭子"
   ]
  },
  {
   "cell_type": "code",
   "execution_count": 102,
   "metadata": {},
   "outputs": [],
   "source": [
    "class Struggle:\n",
    "    def __len__(self): return 23"
   ]
  },
  {
   "cell_type": "code",
   "execution_count": 103,
   "metadata": {},
   "outputs": [],
   "source": [
    "from collections import abc"
   ]
  },
  {
   "cell_type": "code",
   "execution_count": 104,
   "metadata": {},
   "outputs": [
    {
     "data": {
      "text/plain": [
       "True"
      ]
     },
     "execution_count": 104,
     "metadata": {},
     "output_type": "execute_result"
    }
   ],
   "source": [
    "isinstance(Struggle(), abc.Sized)"
   ]
  },
  {
   "cell_type": "code",
   "execution_count": 105,
   "metadata": {},
   "outputs": [
    {
     "data": {
      "text/plain": [
       "True"
      ]
     },
     "execution_count": 105,
     "metadata": {},
     "output_type": "execute_result"
    }
   ],
   "source": [
    "issubclass(Struggle, abc.Sized)"
   ]
  },
  {
   "cell_type": "code",
   "execution_count": 122,
   "metadata": {},
   "outputs": [
    {
     "name": "stdout",
     "output_type": "stream",
     "text": [
      "True\n"
     ]
    }
   ],
   "source": [
    "import abc\n",
    "\n",
    "class A(abc.ABC):\n",
    "    __slots__ = ()\n",
    "    \n",
    "    @abc.abstractmethod\n",
    "    def __hello__(self): ...\n",
    "\n",
    "    @classmethod\n",
    "    def __subclasshook__(cls, C):\n",
    "        if cls is A:\n",
    "            if any(\"__hello__\" in B.__dict__ for B in C.__mro__):\n",
    "                return True\n",
    "        return NotImplemented\n",
    "\n",
    "class B:\n",
    "    def __hello__(self):\n",
    "        return \"Hello World!\"\n",
    "\n",
    "print(issubclass(B, A))  # 输出: True\n"
   ]
  },
  {
   "cell_type": "markdown",
   "metadata": {},
   "source": [
    "## 11.11 本章小结"
   ]
  },
  {
   "cell_type": "markdown",
   "metadata": {},
   "source": [
    "<img src=\"./images/第11章总结1.jpg\" width=\"70%\">\n",
    "<img src=\"./images/第11章总结2.jpg\" width=\"70%\">\n",
    "<img src=\"./images/第11章总结3.jpg\" width=\"70%\">"
   ]
  }
 ],
 "metadata": {
  "kernelspec": {
   "display_name": "ai",
   "language": "python",
   "name": "python3"
  },
  "language_info": {
   "codemirror_mode": {
    "name": "ipython",
    "version": 3
   },
   "file_extension": ".py",
   "mimetype": "text/x-python",
   "name": "python",
   "nbconvert_exporter": "python",
   "pygments_lexer": "ipython3",
   "version": "3.11.9"
  }
 },
 "nbformat": 4,
 "nbformat_minor": 2
}
