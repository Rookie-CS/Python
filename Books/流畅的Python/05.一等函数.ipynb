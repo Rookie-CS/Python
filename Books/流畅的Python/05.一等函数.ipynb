{
 "cells": [
  {
   "cell_type": "markdown",
   "metadata": {},
   "source": [
    "# 第五章 一等函数"
   ]
  },
  {
   "cell_type": "markdown",
   "metadata": {},
   "source": [
    "## 5.1 把函数视作对象"
   ]
  },
  {
   "cell_type": "code",
   "execution_count": 1,
   "metadata": {},
   "outputs": [
    {
     "data": {
      "text/plain": [
       "(1405006117752879898543142606244511569936384000000000, 'returns n!', function)"
      ]
     },
     "execution_count": 1,
     "metadata": {},
     "output_type": "execute_result"
    }
   ],
   "source": [
    "def factorial(n):\n",
    "    '''returns n!'''\n",
    "    return 1 if n < 2 else factorial(n-1) * n\n",
    "factorial(42), factorial.__doc__, type(factorial)"
   ]
  },
  {
   "cell_type": "markdown",
   "metadata": {},
   "source": [
    "示例 5-2 通过别称使用函数, 再把函数作为参数传递"
   ]
  },
  {
   "cell_type": "code",
   "execution_count": 2,
   "metadata": {},
   "outputs": [
    {
     "data": {
      "text/plain": [
       "(<function __main__.factorial(n)>,\n",
       " 120,\n",
       " [1, 1, 2, 6, 24, 120, 720, 5040, 40320, 362880])"
      ]
     },
     "execution_count": 2,
     "metadata": {},
     "output_type": "execute_result"
    }
   ],
   "source": [
    "fact = factorial\n",
    "fact, fact(5), list(map(fact, range(10))) "
   ]
  },
  {
   "cell_type": "markdown",
   "metadata": {},
   "source": [
    "## 5.2 高阶函数"
   ]
  },
  {
   "cell_type": "markdown",
   "metadata": {},
   "source": [
    "> 接受函数作为参数, 或者把函数作为结果返回的函数称为高阶函数"
   ]
  },
  {
   "cell_type": "markdown",
   "metadata": {},
   "source": [
    "示例 5-3 根据单词长度给一个列表序列排序"
   ]
  },
  {
   "cell_type": "code",
   "execution_count": 3,
   "metadata": {},
   "outputs": [
    {
     "data": {
      "text/plain": [
       "(['fig', 'apple', 'cherry', 'banana', 'raspberry', 'strawberry'], 'fig')"
      ]
     },
     "execution_count": 3,
     "metadata": {},
     "output_type": "execute_result"
    }
   ],
   "source": [
    "fruits = ['strawberry', 'fig', 'apple', 'cherry', 'raspberry', 'banana']\n",
    "sorted(fruits, key=len), min(fruits, key=len) "
   ]
  },
  {
   "cell_type": "markdown",
   "metadata": {},
   "source": [
    "示例 5-4 根据反向拼写给一个单词列表排序"
   ]
  },
  {
   "cell_type": "code",
   "execution_count": 4,
   "metadata": {},
   "outputs": [
    {
     "data": {
      "text/plain": [
       "['banana', 'apple', 'fig', 'raspberry', 'strawberry', 'cherry']"
      ]
     },
     "execution_count": 4,
     "metadata": {},
     "output_type": "execute_result"
    }
   ],
   "source": [
    "sorted(fruits, key=lambda word: word[::-1])"
   ]
  },
  {
   "cell_type": "markdown",
   "metadata": {},
   "source": [
    "示例 5-6 使用 reduce 和 sum 求和"
   ]
  },
  {
   "cell_type": "code",
   "execution_count": 5,
   "metadata": {},
   "outputs": [
    {
     "data": {
      "text/plain": [
       "(4950, 4950)"
      ]
     },
     "execution_count": 5,
     "metadata": {},
     "output_type": "execute_result"
    }
   ],
   "source": [
    "from functools import reduce\n",
    "from operator import add\n",
    "reduce(add, range(100)), sum(range(100))"
   ]
  },
  {
   "cell_type": "code",
   "execution_count": 6,
   "metadata": {},
   "outputs": [
    {
     "data": {
      "text/plain": [
       "(False, True)"
      ]
     },
     "execution_count": 6,
     "metadata": {},
     "output_type": "execute_result"
    }
   ],
   "source": [
    "iterable = [True, False, True]\n",
    "all(iterable), any(iterable)"
   ]
  },
  {
   "cell_type": "markdown",
   "metadata": {},
   "source": [
    "## 5.3 匿名函数"
   ]
  },
  {
   "cell_type": "code",
   "execution_count": 7,
   "metadata": {},
   "outputs": [
    {
     "data": {
      "text/plain": [
       "[[-2, 2], [0, 1], [1, 2], [5, 2]]"
      ]
     },
     "execution_count": 7,
     "metadata": {},
     "output_type": "execute_result"
    }
   ],
   "source": [
    "lst = [[1, 2], [5, 2], [0, 1], [-2, 2]]\n",
    "sorted(lst, key=lambda x: x[0])"
   ]
  },
  {
   "cell_type": "code",
   "execution_count": 8,
   "metadata": {},
   "outputs": [
    {
     "data": {
      "text/plain": [
       "[[-2, 2], [0, 1], [1, 2], [5, 2]]"
      ]
     },
     "execution_count": 8,
     "metadata": {},
     "output_type": "execute_result"
    }
   ],
   "source": [
    "sorted(lst, key=lambda x: sum(x))"
   ]
  },
  {
   "cell_type": "markdown",
   "metadata": {},
   "source": [
    "## 5.4 可调用对象"
   ]
  },
  {
   "cell_type": "markdown",
   "metadata": {},
   "source": [
    "* 用户定义函数: 使用`def`或`lambda`表达式创建\n",
    "* 内置函数: 使用 `CPython` 实现的函数, 如 `len` 或 `time.strftime`\n",
    "* 内置方法: 使用C语言实现的方法, 如 `dict.get`\n",
    "* 方法: 在类的定义体中定义的函数\n",
    "* 类: 调用类时会运行类的`__new__`方法创建一个实例, 然后运行`__init__ `方法, 初始化实例, 最后把实例返回给调用方\n",
    "* 类的实例: 通过 `__call__` 方法\n",
    "* 生成器函数: 使用 `yield` 关键字的函数或方法, 返回的是生成器对象"
   ]
  },
  {
   "cell_type": "markdown",
   "metadata": {},
   "source": [
    "> callable可以判断对象是否可以调用"
   ]
  },
  {
   "cell_type": "code",
   "execution_count": 9,
   "metadata": {},
   "outputs": [
    {
     "data": {
      "text/plain": [
       "[True, True, False]"
      ]
     },
     "execution_count": 9,
     "metadata": {},
     "output_type": "execute_result"
    }
   ],
   "source": [
    "[callable(obj) for obj in (abs, str, 12)]"
   ]
  },
  {
   "cell_type": "markdown",
   "metadata": {},
   "source": [
    "## 5.5 用户自定义的可调用类型"
   ]
  },
  {
   "cell_type": "code",
   "execution_count": 10,
   "metadata": {},
   "outputs": [],
   "source": [
    "import random\n",
    "\n",
    "class BingoCage:\n",
    "\n",
    "    def __init__(self, items):\n",
    "        self._items = list(items)  # <1>\n",
    "        random.shuffle(self._items)  # <2>\n",
    "\n",
    "    def pick(self):  # <3>\n",
    "        try:\n",
    "            return self._items.pop()\n",
    "        except IndexError:\n",
    "            raise LookupError('pick from empty BingoCage')  # <4>\n",
    "\n",
    "    def __call__(self):  # <5>\n",
    "        return self.pick()"
   ]
  },
  {
   "cell_type": "code",
   "execution_count": 11,
   "metadata": {},
   "outputs": [
    {
     "data": {
      "text/plain": [
       "(3, 8, 5)"
      ]
     },
     "execution_count": 11,
     "metadata": {},
     "output_type": "execute_result"
    }
   ],
   "source": [
    "bingo = BingoCage(range(10))\n",
    "bingo(), bingo(), bingo()"
   ]
  },
  {
   "cell_type": "code",
   "execution_count": 12,
   "metadata": {},
   "outputs": [
    {
     "data": {
      "text/plain": [
       "[7, 9, 4, 6, 0, 2, 1]"
      ]
     },
     "execution_count": 12,
     "metadata": {},
     "output_type": "execute_result"
    }
   ],
   "source": [
    "bingo._items"
   ]
  },
  {
   "cell_type": "code",
   "execution_count": 13,
   "metadata": {},
   "outputs": [
    {
     "data": {
      "text/plain": [
       "True"
      ]
     },
     "execution_count": 13,
     "metadata": {},
     "output_type": "execute_result"
    }
   ],
   "source": [
    "callable(bingo)"
   ]
  },
  {
   "cell_type": "markdown",
   "metadata": {},
   "source": [
    "## 5.6 函数内省"
   ]
  },
  {
   "cell_type": "code",
   "execution_count": 14,
   "metadata": {},
   "outputs": [],
   "source": [
    "from pprint import pprint\n",
    "def format_list(lst: list, n: int = 5) -> list:\n",
    "    return [lst[i:i + n] for i in range(0, len(lst), n)]"
   ]
  },
  {
   "cell_type": "markdown",
   "metadata": {},
   "source": [
    "函数的所有属性"
   ]
  },
  {
   "cell_type": "code",
   "execution_count": 15,
   "metadata": {},
   "outputs": [
    {
     "name": "stdout",
     "output_type": "stream",
     "text": [
      "[['__annotations__', '__builtins__', '__call__', '__class__', '__closure__'],\n",
      " ['__code__', '__defaults__', '__delattr__', '__dict__', '__dir__'],\n",
      " ['__doc__', '__eq__', '__format__', '__ge__', '__get__'],\n",
      " ['__getattribute__', '__getstate__', '__globals__', '__gt__', '__hash__'],\n",
      " ['__init__', '__init_subclass__', '__kwdefaults__', '__le__', '__lt__'],\n",
      " ['__module__', '__name__', '__ne__', '__new__', '__qualname__'],\n",
      " ['__reduce__', '__reduce_ex__', '__repr__', '__setattr__', '__sizeof__'],\n",
      " ['__str__', '__subclasshook__']]\n"
     ]
    }
   ],
   "source": [
    "pprint(format_list(dir(factorial)))"
   ]
  },
  {
   "cell_type": "markdown",
   "metadata": {},
   "source": [
    "`__dict__`属性"
   ]
  },
  {
   "cell_type": "markdown",
   "metadata": {},
   "source": [
    "示例 5-9 列出常规对象没有而函数有的属性"
   ]
  },
  {
   "cell_type": "code",
   "execution_count": 24,
   "metadata": {},
   "outputs": [
    {
     "name": "stdout",
     "output_type": "stream",
     "text": [
      "[['__qualname__', '__get__', '__name__', '__globals__', '__builtins__'],\n",
      " ['__code__', '__closure__', '__defaults__', '__call__', '__kwdefaults__'],\n",
      " ['__annotations__']]\n"
     ]
    }
   ],
   "source": [
    "from typing import Tuple\n",
    "class C: pass\n",
    "obj = C()\n",
    "def func(n: int = 10) -> Tuple[int]: \n",
    "    '''This is fun''' \n",
    "    return n - 1\n",
    "pprint(format_list(list(set(dir(func)) - set(dir(obj)))))"
   ]
  },
  {
   "cell_type": "code",
   "execution_count": 25,
   "metadata": {},
   "outputs": [
    {
     "data": {
      "text/plain": [
       "{'n': int, 'return': typing.Tuple[int]}"
      ]
     },
     "execution_count": 25,
     "metadata": {},
     "output_type": "execute_result"
    }
   ],
   "source": [
    "func.__annotations__"
   ]
  },
  {
   "cell_type": "code",
   "execution_count": 26,
   "metadata": {},
   "outputs": [
    {
     "data": {
      "text/plain": [
       "'func'"
      ]
     },
     "execution_count": 26,
     "metadata": {},
     "output_type": "execute_result"
    }
   ],
   "source": [
    "f = func\n",
    "f.__name__"
   ]
  },
  {
   "cell_type": "code",
   "execution_count": 27,
   "metadata": {},
   "outputs": [
    {
     "data": {
      "text/plain": [
       "0"
      ]
     },
     "execution_count": 27,
     "metadata": {},
     "output_type": "execute_result"
    }
   ],
   "source": [
    "f.__call__(1)"
   ]
  },
  {
   "cell_type": "code",
   "execution_count": 28,
   "metadata": {},
   "outputs": [
    {
     "data": {
      "text/plain": [
       "<code object func at 0x000002C1DA375D70, file \"C:\\Users\\19145\\AppData\\Local\\Temp\\ipykernel_32884\\1928376850.py\", line 4>"
      ]
     },
     "execution_count": 28,
     "metadata": {},
     "output_type": "execute_result"
    }
   ],
   "source": [
    "func.__code__   #  编译成字节码的函数元数据和函数定义体"
   ]
  },
  {
   "cell_type": "code",
   "execution_count": 29,
   "metadata": {},
   "outputs": [
    {
     "data": {
      "text/plain": [
       "(10,)"
      ]
     },
     "execution_count": 29,
     "metadata": {},
     "output_type": "execute_result"
    }
   ],
   "source": [
    "func.__defaults__   # 形式函数的默认值"
   ]
  },
  {
   "cell_type": "code",
   "execution_count": 30,
   "metadata": {},
   "outputs": [
    {
     "data": {
      "text/plain": [
       "<method-wrapper '__get__' of function object at 0x000002C1DA1D7880>"
      ]
     },
     "execution_count": 30,
     "metadata": {},
     "output_type": "execute_result"
    }
   ],
   "source": [
    "func.__get__    # 实现只读描述符协议"
   ]
  },
  {
   "cell_type": "code",
   "execution_count": 31,
   "metadata": {},
   "outputs": [
    {
     "data": {
      "text/plain": [
       "{'__name__': '__main__',\n",
       " '__doc__': 'Automatically created module for IPython interactive environment',\n",
       " '__package__': None,\n",
       " '__loader__': None,\n",
       " '__spec__': None,\n",
       " '__builtin__': <module 'builtins' (built-in)>,\n",
       " '__builtins__': <module 'builtins' (built-in)>,\n",
       " '_ih': ['',\n",
       "  \"def factorial(n):\\n    '''returns n!'''\\n    return 1 if n < 2 else factorial(n-1) * n\\nfactorial(42), factorial.__doc__, type(factorial)\",\n",
       "  'fact = factorial\\nfact, fact(5), list(map(fact, range(10))) ',\n",
       "  \"fruits = ['strawberry', 'fig', 'apple', 'cherry', 'raspberry', 'banana']\\nsorted(fruits, key=len), min(fruits, key=len) \",\n",
       "  'sorted(fruits, key=lambda word: word[::-1])',\n",
       "  'from functools import reduce\\nfrom operator import add\\nreduce(add, range(100)), sum(range(100))',\n",
       "  'iterable = [True, False, True]\\nall(iterable), any(iterable)',\n",
       "  'lst = [[1, 2], [5, 2], [0, 1], [-2, 2]]\\nsorted(lst, key=lambda x: x[0])',\n",
       "  'sorted(lst, key=lambda x: sum(x))',\n",
       "  '[callable(obj) for obj in (abs, str, 12)]',\n",
       "  \"import random\\n\\nclass BingoCage:\\n\\n    def __init__(self, items):\\n        self._items = list(items)  # <1>\\n        random.shuffle(self._items)  # <2>\\n\\n    def pick(self):  # <3>\\n        try:\\n            return self._items.pop()\\n        except IndexError:\\n            raise LookupError('pick from empty BingoCage')  # <4>\\n\\n    def __call__(self):  # <5>\\n        return self.pick()\",\n",
       "  'bingo = BingoCage(range(10))\\nbingo(), bingo(), bingo()',\n",
       "  'bingo._items',\n",
       "  'callable(bingo)',\n",
       "  'from pprint import pprint\\ndef format_list(lst: list, n: int = 5) -> list:\\n    return [lst[i:i + n] for i in range(0, len(lst), n)]',\n",
       "  'pprint(format_list(dir(factorial)))',\n",
       "  \"from typing import Tuple\\nclass C: pass\\nobj = C()\\ndef func(n: int = 10) -> Tuple[int]: \\n    '''This is fun''' \\n    global x\\n    x = 10\\n    return x * n\\npprint(format_list(list(set(dir(func)) - set(dir(obj)))))\",\n",
       "  'func.__annotations__',\n",
       "  'f = func\\nf.__name__',\n",
       "  'f.__call__(1)',\n",
       "  'func.__code__   #  编译成字节码的函数元数据和函数定义体',\n",
       "  'func.__defaults__   # 形式函数的默认值',\n",
       "  'func.__get__    # 实现只读描述符协议',\n",
       "  'func.__globals__',\n",
       "  \"from typing import Tuple\\nclass C: pass\\nobj = C()\\ndef func(n: int = 10) -> Tuple[int]: \\n    '''This is fun''' \\n    return n - 1\\npprint(format_list(list(set(dir(func)) - set(dir(obj)))))\",\n",
       "  'func.__annotations__',\n",
       "  'f = func\\nf.__name__',\n",
       "  'f.__call__(1)',\n",
       "  'func.__code__   #  编译成字节码的函数元数据和函数定义体',\n",
       "  'func.__defaults__   # 形式函数的默认值',\n",
       "  'func.__get__    # 实现只读描述符协议',\n",
       "  'func.__globals__'],\n",
       " '_oh': {1: (1405006117752879898543142606244511569936384000000000,\n",
       "   'returns n!',\n",
       "   function),\n",
       "  2: (<function __main__.factorial(n)>,\n",
       "   120,\n",
       "   [1, 1, 2, 6, 24, 120, 720, 5040, 40320, 362880]),\n",
       "  3: (['fig', 'apple', 'cherry', 'banana', 'raspberry', 'strawberry'], 'fig'),\n",
       "  4: ['banana', 'apple', 'fig', 'raspberry', 'strawberry', 'cherry'],\n",
       "  5: (4950, 4950),\n",
       "  6: (False, True),\n",
       "  7: [[-2, 2], [0, 1], [1, 2], [5, 2]],\n",
       "  8: [[-2, 2], [0, 1], [1, 2], [5, 2]],\n",
       "  9: [True, True, False],\n",
       "  11: (3, 8, 5),\n",
       "  12: [7, 9, 4, 6, 0, 2, 1],\n",
       "  13: True,\n",
       "  17: {'n': int, 'return': typing.Tuple[int]},\n",
       "  18: 'func',\n",
       "  19: 10,\n",
       "  20: <code object func at 0x000002C1DA21BAD0, file \"C:\\Users\\19145\\AppData\\Local\\Temp\\ipykernel_32884\\1498165560.py\", line 4>,\n",
       "  21: (10,),\n",
       "  22: <method-wrapper '__get__' of function object at 0x000002C1DA33AAC0>,\n",
       "  23: {...},\n",
       "  25: {'n': int, 'return': typing.Tuple[int]},\n",
       "  26: 'func',\n",
       "  27: 0,\n",
       "  28: <code object func at 0x000002C1DA375D70, file \"C:\\Users\\19145\\AppData\\Local\\Temp\\ipykernel_32884\\1928376850.py\", line 4>,\n",
       "  29: (10,),\n",
       "  30: <method-wrapper '__get__' of function object at 0x000002C1DA1D7880>},\n",
       " '_dh': [WindowsPath('d:/Desktop/CS/Python/Books/流畅的Python')],\n",
       " 'In': ['',\n",
       "  \"def factorial(n):\\n    '''returns n!'''\\n    return 1 if n < 2 else factorial(n-1) * n\\nfactorial(42), factorial.__doc__, type(factorial)\",\n",
       "  'fact = factorial\\nfact, fact(5), list(map(fact, range(10))) ',\n",
       "  \"fruits = ['strawberry', 'fig', 'apple', 'cherry', 'raspberry', 'banana']\\nsorted(fruits, key=len), min(fruits, key=len) \",\n",
       "  'sorted(fruits, key=lambda word: word[::-1])',\n",
       "  'from functools import reduce\\nfrom operator import add\\nreduce(add, range(100)), sum(range(100))',\n",
       "  'iterable = [True, False, True]\\nall(iterable), any(iterable)',\n",
       "  'lst = [[1, 2], [5, 2], [0, 1], [-2, 2]]\\nsorted(lst, key=lambda x: x[0])',\n",
       "  'sorted(lst, key=lambda x: sum(x))',\n",
       "  '[callable(obj) for obj in (abs, str, 12)]',\n",
       "  \"import random\\n\\nclass BingoCage:\\n\\n    def __init__(self, items):\\n        self._items = list(items)  # <1>\\n        random.shuffle(self._items)  # <2>\\n\\n    def pick(self):  # <3>\\n        try:\\n            return self._items.pop()\\n        except IndexError:\\n            raise LookupError('pick from empty BingoCage')  # <4>\\n\\n    def __call__(self):  # <5>\\n        return self.pick()\",\n",
       "  'bingo = BingoCage(range(10))\\nbingo(), bingo(), bingo()',\n",
       "  'bingo._items',\n",
       "  'callable(bingo)',\n",
       "  'from pprint import pprint\\ndef format_list(lst: list, n: int = 5) -> list:\\n    return [lst[i:i + n] for i in range(0, len(lst), n)]',\n",
       "  'pprint(format_list(dir(factorial)))',\n",
       "  \"from typing import Tuple\\nclass C: pass\\nobj = C()\\ndef func(n: int = 10) -> Tuple[int]: \\n    '''This is fun''' \\n    global x\\n    x = 10\\n    return x * n\\npprint(format_list(list(set(dir(func)) - set(dir(obj)))))\",\n",
       "  'func.__annotations__',\n",
       "  'f = func\\nf.__name__',\n",
       "  'f.__call__(1)',\n",
       "  'func.__code__   #  编译成字节码的函数元数据和函数定义体',\n",
       "  'func.__defaults__   # 形式函数的默认值',\n",
       "  'func.__get__    # 实现只读描述符协议',\n",
       "  'func.__globals__',\n",
       "  \"from typing import Tuple\\nclass C: pass\\nobj = C()\\ndef func(n: int = 10) -> Tuple[int]: \\n    '''This is fun''' \\n    return n - 1\\npprint(format_list(list(set(dir(func)) - set(dir(obj)))))\",\n",
       "  'func.__annotations__',\n",
       "  'f = func\\nf.__name__',\n",
       "  'f.__call__(1)',\n",
       "  'func.__code__   #  编译成字节码的函数元数据和函数定义体',\n",
       "  'func.__defaults__   # 形式函数的默认值',\n",
       "  'func.__get__    # 实现只读描述符协议',\n",
       "  'func.__globals__'],\n",
       " 'Out': {1: (1405006117752879898543142606244511569936384000000000,\n",
       "   'returns n!',\n",
       "   function),\n",
       "  2: (<function __main__.factorial(n)>,\n",
       "   120,\n",
       "   [1, 1, 2, 6, 24, 120, 720, 5040, 40320, 362880]),\n",
       "  3: (['fig', 'apple', 'cherry', 'banana', 'raspberry', 'strawberry'], 'fig'),\n",
       "  4: ['banana', 'apple', 'fig', 'raspberry', 'strawberry', 'cherry'],\n",
       "  5: (4950, 4950),\n",
       "  6: (False, True),\n",
       "  7: [[-2, 2], [0, 1], [1, 2], [5, 2]],\n",
       "  8: [[-2, 2], [0, 1], [1, 2], [5, 2]],\n",
       "  9: [True, True, False],\n",
       "  11: (3, 8, 5),\n",
       "  12: [7, 9, 4, 6, 0, 2, 1],\n",
       "  13: True,\n",
       "  17: {'n': int, 'return': typing.Tuple[int]},\n",
       "  18: 'func',\n",
       "  19: 10,\n",
       "  20: <code object func at 0x000002C1DA21BAD0, file \"C:\\Users\\19145\\AppData\\Local\\Temp\\ipykernel_32884\\1498165560.py\", line 4>,\n",
       "  21: (10,),\n",
       "  22: <method-wrapper '__get__' of function object at 0x000002C1DA33AAC0>,\n",
       "  23: {...},\n",
       "  25: {'n': int, 'return': typing.Tuple[int]},\n",
       "  26: 'func',\n",
       "  27: 0,\n",
       "  28: <code object func at 0x000002C1DA375D70, file \"C:\\Users\\19145\\AppData\\Local\\Temp\\ipykernel_32884\\1928376850.py\", line 4>,\n",
       "  29: (10,),\n",
       "  30: <method-wrapper '__get__' of function object at 0x000002C1DA1D7880>},\n",
       " 'get_ipython': <bound method InteractiveShell.get_ipython of <ipykernel.zmqshell.ZMQInteractiveShell object at 0x000002C1DA1D1950>>,\n",
       " 'exit': <IPython.core.autocall.ZMQExitAutocall at 0x2c1da1e2610>,\n",
       " 'quit': <IPython.core.autocall.ZMQExitAutocall at 0x2c1da1e2610>,\n",
       " 'open': <function io.open(file, mode='r', buffering=-1, encoding=None, errors=None, newline=None, closefd=True, opener=None)>,\n",
       " '_': <method-wrapper '__get__' of function object at 0x000002C1DA1D7880>,\n",
       " '__': (10,),\n",
       " '___': <code object func at 0x000002C1DA375D70, file \"C:\\Users\\19145\\AppData\\Local\\Temp\\ipykernel_32884\\1928376850.py\", line 4>,\n",
       " '__vsc_ipynb_file__': 'd:\\\\Desktop\\\\CS\\\\Python\\\\Books\\\\流畅的Python\\\\05.一等函数.ipynb',\n",
       " '_i': 'func.__get__    # 实现只读描述符协议',\n",
       " '_ii': 'func.__defaults__   # 形式函数的默认值',\n",
       " '_iii': 'func.__code__   #  编译成字节码的函数元数据和函数定义体',\n",
       " '_i1': \"def factorial(n):\\n    '''returns n!'''\\n    return 1 if n < 2 else factorial(n-1) * n\\nfactorial(42), factorial.__doc__, type(factorial)\",\n",
       " 'factorial': <function __main__.factorial(n)>,\n",
       " '_1': (1405006117752879898543142606244511569936384000000000,\n",
       "  'returns n!',\n",
       "  function),\n",
       " '_i2': 'fact = factorial\\nfact, fact(5), list(map(fact, range(10))) ',\n",
       " 'fact': <function __main__.factorial(n)>,\n",
       " '_2': (<function __main__.factorial(n)>,\n",
       "  120,\n",
       "  [1, 1, 2, 6, 24, 120, 720, 5040, 40320, 362880]),\n",
       " '_i3': \"fruits = ['strawberry', 'fig', 'apple', 'cherry', 'raspberry', 'banana']\\nsorted(fruits, key=len), min(fruits, key=len) \",\n",
       " 'fruits': ['strawberry', 'fig', 'apple', 'cherry', 'raspberry', 'banana'],\n",
       " '_3': (['fig', 'apple', 'cherry', 'banana', 'raspberry', 'strawberry'],\n",
       "  'fig'),\n",
       " '_i4': 'sorted(fruits, key=lambda word: word[::-1])',\n",
       " '_4': ['banana', 'apple', 'fig', 'raspberry', 'strawberry', 'cherry'],\n",
       " '_i5': 'from functools import reduce\\nfrom operator import add\\nreduce(add, range(100)), sum(range(100))',\n",
       " 'reduce': <function _functools.reduce>,\n",
       " 'add': <function _operator.add(a, b, /)>,\n",
       " '_5': (4950, 4950),\n",
       " '_i6': 'iterable = [True, False, True]\\nall(iterable), any(iterable)',\n",
       " 'iterable': [True, False, True],\n",
       " '_6': (False, True),\n",
       " '_i7': 'lst = [[1, 2], [5, 2], [0, 1], [-2, 2]]\\nsorted(lst, key=lambda x: x[0])',\n",
       " 'lst': [[1, 2], [5, 2], [0, 1], [-2, 2]],\n",
       " '_7': [[-2, 2], [0, 1], [1, 2], [5, 2]],\n",
       " '_i8': 'sorted(lst, key=lambda x: sum(x))',\n",
       " '_8': [[-2, 2], [0, 1], [1, 2], [5, 2]],\n",
       " '_i9': '[callable(obj) for obj in (abs, str, 12)]',\n",
       " '_9': [True, True, False],\n",
       " '_i10': \"import random\\n\\nclass BingoCage:\\n\\n    def __init__(self, items):\\n        self._items = list(items)  # <1>\\n        random.shuffle(self._items)  # <2>\\n\\n    def pick(self):  # <3>\\n        try:\\n            return self._items.pop()\\n        except IndexError:\\n            raise LookupError('pick from empty BingoCage')  # <4>\\n\\n    def __call__(self):  # <5>\\n        return self.pick()\",\n",
       " 'random': <module 'random' from 'c:\\\\Users\\\\19145\\\\.conda\\\\envs\\\\ai\\\\Lib\\\\random.py'>,\n",
       " 'BingoCage': __main__.BingoCage,\n",
       " '_i11': 'bingo = BingoCage(range(10))\\nbingo(), bingo(), bingo()',\n",
       " 'bingo': <__main__.BingoCage at 0x2c1da372950>,\n",
       " '_11': (3, 8, 5),\n",
       " '_i12': 'bingo._items',\n",
       " '_12': [7, 9, 4, 6, 0, 2, 1],\n",
       " '_i13': 'callable(bingo)',\n",
       " '_13': True,\n",
       " '_i14': 'from pprint import pprint\\ndef format_list(lst: list, n: int = 5) -> list:\\n    return [lst[i:i + n] for i in range(0, len(lst), n)]',\n",
       " 'pprint': <function pprint.pprint(object, stream=None, indent=1, width=80, depth=None, *, compact=False, sort_dicts=True, underscore_numbers=False)>,\n",
       " 'format_list': <function __main__.format_list(lst: list, n: int = 5) -> list>,\n",
       " '_i15': 'pprint(format_list(dir(factorial)))',\n",
       " '_i16': \"from typing import Tuple\\nclass C: pass\\nobj = C()\\ndef func(n: int = 10) -> Tuple[int]: \\n    '''This is fun''' \\n    global x\\n    x = 10\\n    return x * n\\npprint(format_list(list(set(dir(func)) - set(dir(obj)))))\",\n",
       " 'Tuple': typing.Tuple,\n",
       " 'C': __main__.C,\n",
       " 'obj': <__main__.C at 0x2c1da3828d0>,\n",
       " 'func': <function __main__.func(n: int = 10) -> Tuple[int]>,\n",
       " '_i17': 'func.__annotations__',\n",
       " '_17': {'n': int, 'return': typing.Tuple[int]},\n",
       " '_i18': 'f = func\\nf.__name__',\n",
       " 'f': <function __main__.func(n: int = 10) -> Tuple[int]>,\n",
       " '_18': 'func',\n",
       " '_i19': 'f.__call__(1)',\n",
       " 'x': 10,\n",
       " '_19': 10,\n",
       " '_i20': 'func.__code__   #  编译成字节码的函数元数据和函数定义体',\n",
       " '_20': <code object func at 0x000002C1DA21BAD0, file \"C:\\Users\\19145\\AppData\\Local\\Temp\\ipykernel_32884\\1498165560.py\", line 4>,\n",
       " '_i21': 'func.__defaults__   # 形式函数的默认值',\n",
       " '_21': (10,),\n",
       " '_i22': 'func.__get__    # 实现只读描述符协议',\n",
       " '_22': <method-wrapper '__get__' of function object at 0x000002C1DA33AAC0>,\n",
       " '_i23': 'func.__globals__',\n",
       " '_23': {...},\n",
       " '_i24': \"from typing import Tuple\\nclass C: pass\\nobj = C()\\ndef func(n: int = 10) -> Tuple[int]: \\n    '''This is fun''' \\n    return n - 1\\npprint(format_list(list(set(dir(func)) - set(dir(obj)))))\",\n",
       " '_i25': 'func.__annotations__',\n",
       " '_25': {'n': int, 'return': typing.Tuple[int]},\n",
       " '_i26': 'f = func\\nf.__name__',\n",
       " '_26': 'func',\n",
       " '_i27': 'f.__call__(1)',\n",
       " '_27': 0,\n",
       " '_i28': 'func.__code__   #  编译成字节码的函数元数据和函数定义体',\n",
       " '_28': <code object func at 0x000002C1DA375D70, file \"C:\\Users\\19145\\AppData\\Local\\Temp\\ipykernel_32884\\1928376850.py\", line 4>,\n",
       " '_i29': 'func.__defaults__   # 形式函数的默认值',\n",
       " '_29': (10,),\n",
       " '_i30': 'func.__get__    # 实现只读描述符协议',\n",
       " '_30': <method-wrapper '__get__' of function object at 0x000002C1DA1D7880>,\n",
       " '_i31': 'func.__globals__'}"
      ]
     },
     "execution_count": 31,
     "metadata": {},
     "output_type": "execute_result"
    }
   ],
   "source": [
    "func.__globals__"
   ]
  },
  {
   "cell_type": "code",
   "execution_count": 32,
   "metadata": {},
   "outputs": [],
   "source": [
    "func.__kwdefaults__"
   ]
  },
  {
   "cell_type": "code",
   "execution_count": 33,
   "metadata": {},
   "outputs": [
    {
     "data": {
      "text/plain": [
       "'func'"
      ]
     },
     "execution_count": 33,
     "metadata": {},
     "output_type": "execute_result"
    }
   ],
   "source": [
    "func.__qualname__"
   ]
  },
  {
   "cell_type": "markdown",
   "metadata": {},
   "source": [
    "## 5.7 从定位参数到仅限关键字参数"
   ]
  },
  {
   "cell_type": "markdown",
   "metadata": {},
   "source": [
    "示例 5-10 tag 函数用于生成 HTML 标签；使用名为 cls 的关键字参数传入“class”属性，这是一种变通方法，因为“ class”是 Python的关键字"
   ]
  },
  {
   "cell_type": "code",
   "execution_count": 43,
   "metadata": {},
   "outputs": [],
   "source": [
    "from ipywidgets import HTML\n",
    "\n",
    "def tag(name, *content, cls=None, **attrs):\n",
    "    \"\"\"Generate one or more HTML tags\"\"\"\n",
    "    if cls is not None:\n",
    "        attrs['class'] = cls\n",
    "    if attrs:\n",
    "        attr_str = ''.join(' %s=\"%s\"' % (attr, value)\n",
    "                           for attr, value\n",
    "                           in sorted(attrs.items()))\n",
    "    else:\n",
    "        attr_str = ''\n",
    "    if content:\n",
    "        return '\\n'.join('<%s%s>%s</%s>' %\n",
    "                         (name, attr_str, c, name) for c in content)\n",
    "    else:\n",
    "        return '<%s%s />' % (name, attr_str)"
   ]
  },
  {
   "cell_type": "code",
   "execution_count": 44,
   "metadata": {},
   "outputs": [
    {
     "data": {
      "application/vnd.jupyter.widget-view+json": {
       "model_id": "07cec2594f224dee8d9d3a463d394a20",
       "version_major": 2,
       "version_minor": 0
      },
      "text/plain": [
       "HTML(value='<br />')"
      ]
     },
     "execution_count": 44,
     "metadata": {},
     "output_type": "execute_result"
    }
   ],
   "source": [
    "HTML(tag('br'))"
   ]
  },
  {
   "cell_type": "code",
   "execution_count": 42,
   "metadata": {},
   "outputs": [
    {
     "data": {
      "application/vnd.jupyter.widget-view+json": {
       "model_id": "b4fb934c861948fe935d0dd7a752d342",
       "version_major": 2,
       "version_minor": 0
      },
      "text/plain": [
       "HTML(value='<div>Hello</div>\\n<div>WOrld</div>')"
      ]
     },
     "execution_count": 42,
     "metadata": {},
     "output_type": "execute_result"
    }
   ],
   "source": [
    "HTML(tag('div',\"Hello\", \"World\"))"
   ]
  },
  {
   "cell_type": "code",
   "execution_count": 49,
   "metadata": {},
   "outputs": [
    {
     "data": {
      "application/vnd.jupyter.widget-view+json": {
       "model_id": "d9276c119d81467aa147be27f4ec3118",
       "version_major": 2,
       "version_minor": 0
      },
      "text/plain": [
       "HTML(value='<img class=\"framed\" src=\"sunset.jpg\" title=\"Sunset Boulevard\" />')"
      ]
     },
     "execution_count": 49,
     "metadata": {},
     "output_type": "execute_result"
    }
   ],
   "source": [
    "my_tag = {'name': 'img', 'title': 'Sunset Boulevard', 'src': 'sunset.jpg', 'cls': 'framed'}\n",
    "HTML(tag(**my_tag))"
   ]
  },
  {
   "cell_type": "markdown",
   "metadata": {},
   "source": [
    " 使用 * 实现仅限关键字参数"
   ]
  },
  {
   "cell_type": "code",
   "execution_count": 50,
   "metadata": {},
   "outputs": [],
   "source": [
    "def f(a, *, b):\n",
    "    return a + b"
   ]
  },
  {
   "cell_type": "code",
   "execution_count": 52,
   "metadata": {},
   "outputs": [
    {
     "name": "stdout",
     "output_type": "stream",
     "text": [
      "f() takes 1 positional argument but 2 were given\n"
     ]
    }
   ],
   "source": [
    "try:\n",
    "    f(1, 2)\n",
    "except Exception as e:\n",
    "    print(e)"
   ]
  },
  {
   "cell_type": "code",
   "execution_count": 54,
   "metadata": {},
   "outputs": [
    {
     "data": {
      "text/plain": [
       "3"
      ]
     },
     "execution_count": 54,
     "metadata": {},
     "output_type": "execute_result"
    }
   ],
   "source": [
    "f(1, b=2)  "
   ]
  },
  {
   "cell_type": "markdown",
   "metadata": {},
   "source": [
    "## 5.9 函数注解"
   ]
  },
  {
   "cell_type": "code",
   "execution_count": 55,
   "metadata": {},
   "outputs": [
    {
     "data": {
      "text/plain": [
       "{'n': int, 'return': typing.Tuple[int]}"
      ]
     },
     "execution_count": 55,
     "metadata": {},
     "output_type": "execute_result"
    }
   ],
   "source": [
    "func.__annotations__"
   ]
  },
  {
   "cell_type": "markdown",
   "metadata": {},
   "source": [
    "## 5.10 支持函数式编程的包"
   ]
  },
  {
   "cell_type": "markdown",
   "metadata": {},
   "source": [
    "### 5.10.1 `operator`模块"
   ]
  },
  {
   "cell_type": "markdown",
   "metadata": {},
   "source": [
    "示例 5-21 使用 reduce 函数和一个匿名函数计算阶乘"
   ]
  },
  {
   "cell_type": "code",
   "execution_count": 57,
   "metadata": {},
   "outputs": [
    {
     "data": {
      "text/plain": [
       "120"
      ]
     },
     "execution_count": 57,
     "metadata": {},
     "output_type": "execute_result"
    }
   ],
   "source": [
    "from functools import reduce\n",
    "def fact(n):\n",
    "    return reduce(lambda a, b: a * b, range(1, n+1))\n",
    "fact(5)"
   ]
  },
  {
   "cell_type": "markdown",
   "metadata": {},
   "source": [
    "示例 5-22 使用 reduce 和 operator.mul 函数计算阶乘"
   ]
  },
  {
   "cell_type": "code",
   "execution_count": 58,
   "metadata": {},
   "outputs": [
    {
     "data": {
      "text/plain": [
       "120"
      ]
     },
     "execution_count": 58,
     "metadata": {},
     "output_type": "execute_result"
    }
   ],
   "source": [
    "from functools import reduce\n",
    "from operator import mul\n",
    "fact = lambda n: reduce(mul, range(1, n+1))\n",
    "fact(5)"
   ]
  },
  {
   "cell_type": "markdown",
   "metadata": {},
   "source": [
    "示例 5-23 演示使用 itemgetter 排序一个元组列表"
   ]
  },
  {
   "cell_type": "code",
   "execution_count": 59,
   "metadata": {},
   "outputs": [],
   "source": [
    "from operator import itemgetter\n",
    "metro_areas = [\n",
    "    ('Tokyo', 'JP', 36.933, (35.689722, 139.691667)),   # <1>\n",
    "    ('Delhi NCR', 'IN', 21.935, (28.613889, 77.208889)),\n",
    "    ('Mexico City', 'MX', 20.142, (19.433333, -99.133333)),\n",
    "    ('New York-Newark', 'US', 20.104, (40.808611, -74.020386)),\n",
    "    ('Sao Paulo', 'BR', 19.649, (-23.547778, -46.635833)),\n",
    "]"
   ]
  },
  {
   "cell_type": "code",
   "execution_count": 63,
   "metadata": {},
   "outputs": [
    {
     "name": "stdout",
     "output_type": "stream",
     "text": [
      "('Sao Paulo', 'BR', 19.649, (-23.547778, -46.635833))\n",
      "('New York-Newark', 'US', 20.104, (40.808611, -74.020386))\n",
      "('Mexico City', 'MX', 20.142, (19.433333, -99.133333))\n",
      "('Delhi NCR', 'IN', 21.935, (28.613889, 77.208889))\n",
      "('Tokyo', 'JP', 36.933, (35.689722, 139.691667))\n"
     ]
    }
   ],
   "source": [
    "for city in sorted(metro_areas, key=itemgetter(2)): print(city)"
   ]
  },
  {
   "cell_type": "code",
   "execution_count": 65,
   "metadata": {},
   "outputs": [
    {
     "name": "stdout",
     "output_type": "stream",
     "text": [
      "('JP', 'Tokyo')\n",
      "('IN', 'Delhi NCR')\n",
      "('MX', 'Mexico City')\n",
      "('US', 'New York-Newark')\n",
      "('BR', 'Sao Paulo')\n"
     ]
    }
   ],
   "source": [
    "for city in metro_areas:\n",
    "    print(itemgetter(1, 0)(city))"
   ]
  },
  {
   "cell_type": "markdown",
   "metadata": {},
   "source": [
    "### 5.10.2 使用functools.partial 冻结参数"
   ]
  },
  {
   "cell_type": "code",
   "execution_count": 66,
   "metadata": {},
   "outputs": [],
   "source": [
    "from operator import mul\n",
    "from functools import partial"
   ]
  },
  {
   "cell_type": "code",
   "execution_count": 67,
   "metadata": {},
   "outputs": [
    {
     "data": {
      "text/plain": [
       "12"
      ]
     },
     "execution_count": 67,
     "metadata": {},
     "output_type": "execute_result"
    }
   ],
   "source": [
    "triple = partial(mul, 3)\n",
    "triple(4)"
   ]
  },
  {
   "cell_type": "code",
   "execution_count": 68,
   "metadata": {},
   "outputs": [
    {
     "data": {
      "text/plain": [
       "[0, 3, 6, 9, 12, 15, 18, 21, 24, 27]"
      ]
     },
     "execution_count": 68,
     "metadata": {},
     "output_type": "execute_result"
    }
   ],
   "source": [
    "[triple(i) for i in range(10)]"
   ]
  },
  {
   "cell_type": "code",
   "execution_count": 70,
   "metadata": {},
   "outputs": [
    {
     "data": {
      "text/plain": [
       "'Rookie | 18 | 男'"
      ]
     },
     "execution_count": 70,
     "metadata": {},
     "output_type": "execute_result"
    }
   ],
   "source": [
    "def student(name, *, age, gender):\n",
    "    return f\"{name} | {age} | {gender}\"\n",
    "student(\"Rookie\", age=18, gender=\"男\")"
   ]
  },
  {
   "cell_type": "code",
   "execution_count": 71,
   "metadata": {},
   "outputs": [
    {
     "data": {
      "text/plain": [
       "'Rookie | 100 | male'"
      ]
     },
     "execution_count": 71,
     "metadata": {},
     "output_type": "execute_result"
    }
   ],
   "source": [
    "stu = partial(student, age=100, gender='male')\n",
    "stu('Rookie')"
   ]
  },
  {
   "cell_type": "markdown",
   "metadata": {},
   "source": [
    "## 5.11 本章小结"
   ]
  },
  {
   "cell_type": "markdown",
   "metadata": {},
   "source": [
    "<img src=\"./images/第五章总结.jpg\" width=\"70%\">"
   ]
  }
 ],
 "metadata": {
  "kernelspec": {
   "display_name": "ai",
   "language": "python",
   "name": "python3"
  },
  "language_info": {
   "codemirror_mode": {
    "name": "ipython",
    "version": 3
   },
   "file_extension": ".py",
   "mimetype": "text/x-python",
   "name": "python",
   "nbconvert_exporter": "python",
   "pygments_lexer": "ipython3",
   "version": "3.11.9"
  }
 },
 "nbformat": 4,
 "nbformat_minor": 2
}
